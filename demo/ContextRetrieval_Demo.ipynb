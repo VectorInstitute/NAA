{
 "cells": [
  {
   "cell_type": "markdown",
   "id": "a3523481",
   "metadata": {},
   "source": [
    "# Context Retrieval Demo"
   ]
  },
  {
   "cell_type": "code",
   "execution_count": 1,
   "id": "ea16de56",
   "metadata": {},
   "outputs": [],
   "source": [
    "import json \n",
    "import pandas as pd\n",
    "from datasets import load_dataset\n",
    "import os\n",
    "import torch\n",
    "from torch import nn\n",
    "from datetime import datetime\n",
    "import time\n",
    "from sentence_transformers import SentenceTransformer, CrossEncoder, evaluation, losses, InputExample, datasets\n",
    "from sentence_transformers import util as sentenceutils\n",
    "import pickle\n",
    "device = torch.device('cuda' if torch.cuda.is_available() else 'cpu')"
   ]
  },
  {
   "cell_type": "code",
   "execution_count": 2,
   "id": "e70f6a07",
   "metadata": {},
   "outputs": [
    {
     "name": "stdout",
     "output_type": "stream",
     "text": [
      "GPU is: Tesla T4\n"
     ]
    }
   ],
   "source": [
    "print(\"GPU is:\", torch.cuda.get_device_name(0))"
   ]
  },
  {
   "cell_type": "markdown",
   "id": "7985d60a",
   "metadata": {},
   "source": [
    "## Eli5 Dataset "
   ]
  },
  {
   "cell_type": "markdown",
   "id": "1dc6102b",
   "metadata": {},
   "source": [
    "The Eli5 dataset is made up of questions and answers from Reddit users about random topics. They are retrieved from the “Explain like I’m 5” Reddit posts. The dataset also contains relevant Wikipedia passages as supporting documents for each query and answer. The dataset was retrieved from [Hugging Face](https://huggingface.co/datasets/vblagoje/lfqa_support_docs)."
   ]
  },
  {
   "cell_type": "markdown",
   "id": "bb0458cd",
   "metadata": {},
   "source": [
    "#### Data Format \n",
    "The original huggingface dataset was pre-processed to seperate the answers from the passages. The resulting format is as follows:\n",
    "1. **id:** A unique ID for each query \n",
    "2. **input:** A unique query from Reddit user \n",
    "3. **answer:** A unique answer from Reddit user (some contain more than 1) \n",
    "4. **passages:** A set of 7 relevant Wikipedia passages. Every passage is in a dictionary containing a unique Wikipedia ID, title, and a relevance score based on a cross-encoder.\n",
    "\n",
    "**Train Set:** ~ 223K records\n",
    "\n",
    "#### Re-Ranking\n",
    "The original dataset does not indicate which Wikipedia passages are most relevant. However, the semantic search input requires 1 passage per query. To solve this, a re-ranker cross-encoder was used to rank the 7 passages, so that the top (most relevant) passage is selected for the input pairs. The answer column was also re-ranked to improve performance of the answer generation model. "
   ]
  },
  {
   "cell_type": "code",
   "execution_count": 3,
   "id": "880caa29",
   "metadata": {},
   "outputs": [],
   "source": [
    "with open(usr_dir + '/data/Eli5/Eli5_reranked/eli5_train_reranked.json', 'r') as f:\n",
    "    eli5 = json.load(f)"
   ]
  },
  {
   "cell_type": "code",
   "execution_count": 4,
   "id": "9da11282",
   "metadata": {},
   "outputs": [],
   "source": [
    "eli5 = pd.read_json(eli5, orient='records')"
   ]
  },
  {
   "cell_type": "code",
   "execution_count": 5,
   "id": "48e9fceb",
   "metadata": {},
   "outputs": [
    {
     "data": {
      "text/html": [
       "<div>\n",
       "<style scoped>\n",
       "    .dataframe tbody tr th:only-of-type {\n",
       "        vertical-align: middle;\n",
       "    }\n",
       "\n",
       "    .dataframe tbody tr th {\n",
       "        vertical-align: top;\n",
       "    }\n",
       "\n",
       "    .dataframe thead th {\n",
       "        text-align: right;\n",
       "    }\n",
       "</style>\n",
       "<table border=\"1\" class=\"dataframe\">\n",
       "  <thead>\n",
       "    <tr style=\"text-align: right;\">\n",
       "      <th></th>\n",
       "      <th>id</th>\n",
       "      <th>input</th>\n",
       "      <th>answer</th>\n",
       "      <th>passages</th>\n",
       "    </tr>\n",
       "  </thead>\n",
       "  <tbody>\n",
       "    <tr>\n",
       "      <th>0</th>\n",
       "      <td>32wvn8</td>\n",
       "      <td>what's the difference between a forest and a w...</td>\n",
       "      <td>[{'text': 'They're used interchangeably a lot....</td>\n",
       "      <td>[{'wikipedia_id': '66986', 'title': 'Woodland'...</td>\n",
       "    </tr>\n",
       "    <tr>\n",
       "      <th>1</th>\n",
       "      <td>1yc9zg</td>\n",
       "      <td>Are there any good source material on the Wars...</td>\n",
       "      <td>[{'text': 'Many of the relevant primary source...</td>\n",
       "      <td>[{'wikipedia_id': '57561029', 'title': 'Barbar...</td>\n",
       "    </tr>\n",
       "    <tr>\n",
       "      <th>2</th>\n",
       "      <td>elzx1n</td>\n",
       "      <td>we do we instinctively grab a part of our body...</td>\n",
       "      <td>[{'text': 'A) instinct. To protect it from fur...</td>\n",
       "      <td>[{'wikipedia_id': '25294051', 'title': 'Franz ...</td>\n",
       "    </tr>\n",
       "    <tr>\n",
       "      <th>3</th>\n",
       "      <td>1j7pwx</td>\n",
       "      <td>Following the passing of the Thirteenth Amendm...</td>\n",
       "      <td>[{'text': 'It was less a few dark corners, and...</td>\n",
       "      <td>[{'wikipedia_id': '5858078', 'title': 'Reconst...</td>\n",
       "    </tr>\n",
       "    <tr>\n",
       "      <th>4</th>\n",
       "      <td>3qr7uu</td>\n",
       "      <td>In medieval and pre-modern times, political en...</td>\n",
       "      <td>[{'text': 'Twenty years of peace is much bette...</td>\n",
       "      <td>[{'wikipedia_id': '26368', 'title': 'Richard I...</td>\n",
       "    </tr>\n",
       "  </tbody>\n",
       "</table>\n",
       "</div>"
      ],
      "text/plain": [
       "       id                                              input  \\\n",
       "0  32wvn8  what's the difference between a forest and a w...   \n",
       "1  1yc9zg  Are there any good source material on the Wars...   \n",
       "2  elzx1n  we do we instinctively grab a part of our body...   \n",
       "3  1j7pwx  Following the passing of the Thirteenth Amendm...   \n",
       "4  3qr7uu  In medieval and pre-modern times, political en...   \n",
       "\n",
       "                                              answer  \\\n",
       "0  [{'text': 'They're used interchangeably a lot....   \n",
       "1  [{'text': 'Many of the relevant primary source...   \n",
       "2  [{'text': 'A) instinct. To protect it from fur...   \n",
       "3  [{'text': 'It was less a few dark corners, and...   \n",
       "4  [{'text': 'Twenty years of peace is much bette...   \n",
       "\n",
       "                                            passages  \n",
       "0  [{'wikipedia_id': '66986', 'title': 'Woodland'...  \n",
       "1  [{'wikipedia_id': '57561029', 'title': 'Barbar...  \n",
       "2  [{'wikipedia_id': '25294051', 'title': 'Franz ...  \n",
       "3  [{'wikipedia_id': '5858078', 'title': 'Reconst...  \n",
       "4  [{'wikipedia_id': '26368', 'title': 'Richard I...  "
      ]
     },
     "execution_count": 5,
     "metadata": {},
     "output_type": "execute_result"
    }
   ],
   "source": [
    "eli5.head()"
   ]
  },
  {
   "cell_type": "markdown",
   "id": "a924c847",
   "metadata": {},
   "source": [
    "**Example: quesion, answer, passages**"
   ]
  },
  {
   "cell_type": "code",
   "execution_count": 6,
   "id": "d9c10b12",
   "metadata": {
    "scrolled": true
   },
   "outputs": [
    {
     "name": "stdout",
     "output_type": "stream",
     "text": [
      "question: what's the difference between a forest and a wood?\n",
      "\n",
      "answer: They're used interchangeably a lot. You'll get different answers from different resources, but the general consensus seems to be that woods are smaller than forests.\n",
      "\n",
      " >  A wood is an area covered in trees, larger than a grove or a copse. A forest is also an area covered in trees, but it is larger than a wood\n",
      "\n",
      " >  The U.S. National Vegetation Classification system differentiates them according to their densities: 25 to 60 percent of a a wood is covered by tree canopies, while 60 to 100 percent of a forest is canopied.\n",
      "\n",
      "passages: \n",
      "\n"
     ]
    },
    {
     "data": {
      "text/plain": [
       "[{'wikipedia_id': '66986',\n",
       "  'title': 'Woodland',\n",
       "  'section': '',\n",
       "  'start_paragraph_id': 1,\n",
       "  'start_character': 0,\n",
       "  'end_paragraph_id': 1,\n",
       "  'end_character': 506,\n",
       "  'text': 'A woodland or wood (or in the U.S., the \"plurale tantum\" woods) is a low-density forest forming open habitats with plenty of sunlight and limited shade. Woodlands may support an understory of shrubs and herbaceous plants including grasses. Woodland may form a transition to shrubland under drier conditions or during early stages of primary or secondary succession. Higher density areas of trees with a largely closed canopy that provides extensive and nearly continuous shade are referred to as forests. \\n',\n",
       "  'bleu_score': None,\n",
       "  'meta': None,\n",
       "  'cross-score': 0.9974125028},\n",
       " {'wikipedia_id': '4396843',\n",
       "  'title': 'Wood drying',\n",
       "  'section': 'Section::::Types of wood.\\n',\n",
       "  'start_paragraph_id': 9,\n",
       "  'start_character': 0,\n",
       "  'end_paragraph_id': 9,\n",
       "  'end_character': 386,\n",
       "  'text': 'Wood is divided, according to its botanical origin, into two kinds: softwoods, from coniferous trees, and hardwoods, from broad-leaved trees. Softwoods are lighter and generally simple in structure, whereas hardwoods are harder and more complex. However, in Australia, \"softwood\" generally describes rain forest trees, and \"hardwood\" describes Sclerophyll species (\"Eucalyptus\" \"spp\").\\n',\n",
       "  'bleu_score': None,\n",
       "  'meta': None,\n",
       "  'cross-score': 0.9939236045000001},\n",
       " {'wikipedia_id': '56403150',\n",
       "  'title': 'Land-use in Wales',\n",
       "  'section': 'Section::::Woodland and forestry.\\n',\n",
       "  'start_paragraph_id': 17,\n",
       "  'start_character': 0,\n",
       "  'end_paragraph_id': 17,\n",
       "  'end_character': 579,\n",
       "  'text': 'Woodland is defined by Chambers English dictionary as \"land covered with wood\" i.e. dominated by tree species. Forestry is defined as \"1. the science and art of planting, tending and managing forests; 2. Forest country\". This implies that forests have been planted by mankind for a variety of purposes, but mostly for exploitation for timber and pulp for the paper industry. The majority of Forests in Wales were planted by the British Forestry Commission, a UK government agency. Since 2016 the Forestry Commission in Wales has been taken over by Natural Resources Wales (NRW).\\n',\n",
       "  'bleu_score': None,\n",
       "  'meta': None,\n",
       "  'cross-score': 0.9686209559000001},\n",
       " {'wikipedia_id': '12985985',\n",
       "  'title': 'Forest product',\n",
       "  'section': '',\n",
       "  'start_paragraph_id': 1,\n",
       "  'start_character': 0,\n",
       "  'end_paragraph_id': 1,\n",
       "  'end_character': 758,\n",
       "  'text': 'A forest product is any material derived from forestry for direct consumption or commercial use, such as lumber, paper, or forage for livestock. Wood, by far the dominant product of forests, is used for many purposes, such as wood fuel (e.g. in form of firewood or charcoal) or the finished structural materials used for the construction of buildings, or as a raw material, in the form of wood pulp, that is used in the production of paper. All other non-wood products derived from forest resources, comprising a broad variety of other forest products, are collectively described as non-timber forest products (NTFP). Non-timber forest products are viewed to have fewer negative effects on forest ecosystem when providing income sources for local community.\\n',\n",
       "  'bleu_score': None,\n",
       "  'meta': None,\n",
       "  'cross-score': 0.9614921212},\n",
       " {'wikipedia_id': '464779',\n",
       "  'title': 'Building material',\n",
       "  'section': 'Section::::Naturally occurring substances.:Wood and timber.\\n',\n",
       "  'start_paragraph_id': 39,\n",
       "  'start_character': 0,\n",
       "  'end_paragraph_id': 39,\n",
       "  'end_character': 650,\n",
       "  'text': 'Wood is a product of trees, and sometimes other fibrous plants, used for construction purposes when cut or pressed into lumber and timber, such as boards, planks and similar materials. It is a generic building material and is used in building just about any type of structure in most climates. Wood can be very flexible under loads, keeping strength while bending, and is incredibly strong when compressed vertically. There are many differing qualities to the different types of wood, even among same tree species. This means specific species are better suited for various uses than others. And growing conditions are important for deciding quality.\\n',\n",
       "  'bleu_score': None,\n",
       "  'meta': None,\n",
       "  'cross-score': 0.8541674614},\n",
       " {'wikipedia_id': '48094464',\n",
       "  'title': 'Private timber reserve (Tasmania)',\n",
       "  'section': 'Section::::Legal definition.\\n',\n",
       "  'start_paragraph_id': 11,\n",
       "  'start_character': 0,\n",
       "  'end_paragraph_id': 11,\n",
       "  'end_character': 204,\n",
       "  'text': 'Timber means trunks and branches of trees, whether standing or not, and all wood. This definition includes the full range of wood products; all categories of saw logs, veneer logs, pulpwood and firewood.\\n',\n",
       "  'bleu_score': None,\n",
       "  'meta': None,\n",
       "  'cross-score': 0.45251271130000004},\n",
       " {'wikipedia_id': '49165880',\n",
       "  'title': 'Wood industry',\n",
       "  'section': 'Section::::Distinction.\\n',\n",
       "  'start_paragraph_id': 5,\n",
       "  'start_character': 0,\n",
       "  'end_paragraph_id': 5,\n",
       "  'end_character': 366,\n",
       "  'text': 'Processing and products differs especially with regard to the distinction between softwood and hardwood. While softwood primarily goes into the production of wood fuel and pulp and paper, hardwood is used mainly for furniture, floors, etc.. Both types can be of use for building and (residential) construction purposes (e.g. log houses, log cabins, timber framing).\\n',\n",
       "  'bleu_score': None,\n",
       "  'meta': None,\n",
       "  'cross-score': 0.2738744318}]"
      ]
     },
     "execution_count": 6,
     "metadata": {},
     "output_type": "execute_result"
    }
   ],
   "source": [
    "print('question: {}\\n\\nanswer: {}\\n\\npassages: \\n'.format(eli5['input'][0], eli5['answer'][0][0]['text']))\n",
    "eli5['passages'][0]"
   ]
  },
  {
   "cell_type": "markdown",
   "id": "f0214fd7",
   "metadata": {},
   "source": [
    "### 'Question, Passage' Input Pairs"
   ]
  },
  {
   "cell_type": "markdown",
   "id": "81c29b69",
   "metadata": {},
   "source": [
    "The bi-encoder requires a list of passages to encode. There are several formatting options for the input list: \n",
    "1. List of passages \n",
    "2. List of wikipedia titles (found in passages column in dataset) and passages: 'title, passage'\n",
    "3. List of queries and passages: 'query, passage'\n",
    "\n",
    "For this demo, only the list of passages are used for the bi-encoder. \n",
    "\n",
    "**Note:** the Facebook DPR encoder requires the input to be the wikipedia title along with the passage separated with a '[SEP]' token. Use 'passages_dpr' instead of 'passages' (see code below) to use the DPR encoder. There are 2 separate encoders for DPR - one for the passage, and one for the query. See [Sentence Transformer documentation](https://www.sbert.net/docs/pretrained_models.html) for more details on DPR and various pretrained encoders. "
   ]
  },
  {
   "cell_type": "code",
   "execution_count": 7,
   "id": "2167a67a",
   "metadata": {},
   "outputs": [],
   "source": [
    "questions = eli5['input'].tolist() # remove this \n",
    "\n",
    "passages = []\n",
    "for i in range(0,len(eli5)):\n",
    "    passages.append(eli5['passages'][i][0]['text'])"
   ]
  },
  {
   "cell_type": "code",
   "execution_count": 8,
   "id": "a6fef443",
   "metadata": {},
   "outputs": [],
   "source": [
    "# passage format for DPR context encoder only \n",
    "# needs 'title [SEP] passage' as format\n",
    "\n",
    "passages_dpr = []\n",
    "for i in range(0,len(eli5)):\n",
    "    passages_dpr.append(eli5['passages'][i][0]['title'] + ' [SEP] ' + eli5['passages'][i][0]['text'])"
   ]
  },
  {
   "cell_type": "markdown",
   "id": "476476dd",
   "metadata": {},
   "source": [
    "## Semantic Search & Re-Ranker"
   ]
  },
  {
   "cell_type": "markdown",
   "id": "58088798",
   "metadata": {},
   "source": [
    "The semantic search function performs the initial passage retrieval using a bi-encoder. The passage re-ranking is done using a cross encoder. Both are pre-trained encoders and implemented in the same function below. "
   ]
  },
  {
   "cell_type": "code",
   "execution_count": 9,
   "id": "fbe30dd6",
   "metadata": {},
   "outputs": [],
   "source": [
    "# load encoders \n",
    "bi_encoder = SentenceTransformer('msmarco-bert-base-dot-v5')\n",
    "cross_encoder = CrossEncoder('/contextretrieval/cross-encoder/ms-marco-MiniLM-L-6-v2',default_activation_function=nn.Sigmoid())"
   ]
  },
  {
   "cell_type": "code",
   "execution_count": null,
   "id": "163cfcb7",
   "metadata": {},
   "outputs": [],
   "source": [
    "# embed all passages in corpus\n",
    "# this can take a while depending on the size of the dataset - to speed things up, pre-compute the embeddings & load them for future use\n",
    "corpus_embeddings = bi_encoder.encode(passages, convert_to_tensor=True, show_progress_bar=True)\n",
    "\n",
    "# save corpus embeddings \n",
    "with open('query_msmarco-bert-base-dot-v5.pickle', 'wb') as pkl:\n",
    "    pickle.dump(corpus_embeddings, pkl)"
   ]
  },
  {
   "cell_type": "code",
   "execution_count": 12,
   "id": "19efe32d",
   "metadata": {},
   "outputs": [],
   "source": [
    "# load corpus embeddings \n",
    "with open('/data/Eli5/biencoder_embeddings/msmarco-bert-base-dot-v5.pickle', 'rb') as pkl:\n",
    "    corpus_embeddings = pickle.load(pkl)"
   ]
  },
  {
   "cell_type": "code",
   "execution_count": 13,
   "id": "53b77549",
   "metadata": {},
   "outputs": [],
   "source": [
    "top_k=10\n",
    "def search_and_rank(query):\n",
    "    \n",
    "    # ------ PASSAGE RETRIEVAL ------\n",
    "    start_time = time.time()\n",
    "    question_embedding = bi_encoder.encode(query, convert_to_tensor=True)\n",
    "    hits = sentenceutils.semantic_search(question_embedding, corpus_embeddings, top_k=top_k, score_function=sentenceutils.dot_score)\n",
    "    hits = hits[0]  # Get the hits for the first query\n",
    "    end_time = time.time()\n",
    "    \n",
    "    print(\"Input question:\", query)\n",
    "    print(\"\\n-------------------------\\n\")\n",
    "    print(\"Top 10 passages (after {:.3f} seconds):\".format(end_time - start_time))\n",
    "    \n",
    "    for hit in hits:\n",
    "        print(\"\\t{:.3f}\\t{}\".format(hit['score'], passages[hit['corpus_id']]))\n",
    "        hit['passage'] = passages[hit['corpus_id']]\n",
    "    \n",
    "    # ------ RE-RANKER -----\n",
    "    # score passages\n",
    "    cross_inp = [[query, passages[hit['corpus_id']]] for hit in hits]\n",
    "    cross_scores = cross_encoder.predict(cross_inp)\n",
    "    \n",
    "    # sort results\n",
    "    for i in range(len(cross_scores)):\n",
    "        hits[i]['cross-score'] = cross_scores[i]\n",
    "\n",
    "    print(\"\\n-------------------------\\n\")\n",
    "    print(\"Top-3 Cross-Encoder Re-ranker hits\")\n",
    "    hits = sorted(hits, key=lambda x: x['cross-score'], reverse=True)\n",
    "    for hit in hits[0:3]:\n",
    "        print(\"\\t{:.3f}\\t{}\".format(hit['cross-score'], passages[hit['corpus_id']].replace(\"\\n\", \" \")))"
   ]
  },
  {
   "cell_type": "code",
   "execution_count": 14,
   "id": "d59a23ec",
   "metadata": {
    "scrolled": true
   },
   "outputs": [
    {
     "name": "stdout",
     "output_type": "stream",
     "text": [
      "Input question: What affect continental drift?\n",
      "\n",
      "-------------------------\n",
      "\n",
      "Top 10 passages (after 0.301 seconds):\n",
      "\t167.490\tThe theory of plate tectonics demonstrates that the continents of the Earth are moving across the surface at the rate of a few centimeters per year. This is expected to continue, causing the plates to relocate and collide. Continental drift is facilitated by two factors: the energy generation within the planet and the presence of a hydrosphere. With the loss of either of these, continental drift will come to a halt. The production of heat through radiogenic processes is sufficient to maintain mantle convection and plate subduction for at least the next 1.1 billion years.\n",
      "\n",
      "\t167.490\tThe theory of plate tectonics demonstrates that the continents of the Earth are moving across the surface at the rate of a few centimeters per year. This is expected to continue, causing the plates to relocate and collide. Continental drift is facilitated by two factors: the energy generation within the planet and the presence of a hydrosphere. With the loss of either of these, continental drift will come to a halt. The production of heat through radiogenic processes is sufficient to maintain mantle convection and plate subduction for at least the next 1.1 billion years.\n",
      "\n",
      "\t166.055\tIt is true that continental drift and seafloor spreading can change the shape and position of continents and occasionally break a continent into two or more pieces (as happened to Pangaea). However, these are very slow processes that occur in geological time scales (hundreds of millions of years). Over the scale of history (tens of thousands of years), the sima under the continental crust can be considered solid, and the continents are basically anchored on it. It is almost certain that the continents and ocean floors have retained their present position and shape for the whole span of human existence.\n",
      "\n",
      "\t166.055\tIt is true that continental drift and seafloor spreading can change the shape and position of continents and occasionally break a continent into two or more pieces (as happened to Pangaea). However, these are very slow processes that occur in geological time scales (hundreds of millions of years). Over the scale of history (tens of thousands of years), the sima under the continental crust can be considered solid, and the continents are basically anchored on it. It is almost certain that the continents and ocean floors have retained their present position and shape for the whole span of human existence.\n",
      "\n",
      "\t165.568\tContinental drift is the theory that the Earth's continents have moved over geologic time relative to each other, thus appearing to have \"drifted\" across the ocean bed. The speculation that continents might have 'drifted' was first put forward by Abraham Ortelius in 1596. The concept was independently and more fully developed by Alfred Wegener in 1912, but his theory was rejected by many for lack of any motive mechanism. Arthur Holmes later proposed mantle convection for that mechanism. The idea of continental drift has since been subsumed by the theory of plate tectonics, which explains that the continents move by riding on plates of the Earth's lithosphere.\n",
      "\n",
      "\t165.568\tContinental drift is the theory that the Earth's continents have moved over geologic time relative to each other, thus appearing to have \"drifted\" across the ocean bed. The speculation that continents might have 'drifted' was first put forward by Abraham Ortelius in 1596. The concept was independently and more fully developed by Alfred Wegener in 1912, but his theory was rejected by many for lack of any motive mechanism. Arthur Holmes later proposed mantle convection for that mechanism. The idea of continental drift has since been subsumed by the theory of plate tectonics, which explains that the continents move by riding on plates of the Earth's lithosphere.\n",
      "\n",
      "\t165.568\tContinental drift is the theory that the Earth's continents have moved over geologic time relative to each other, thus appearing to have \"drifted\" across the ocean bed. The speculation that continents might have 'drifted' was first put forward by Abraham Ortelius in 1596. The concept was independently and more fully developed by Alfred Wegener in 1912, but his theory was rejected by many for lack of any motive mechanism. Arthur Holmes later proposed mantle convection for that mechanism. The idea of continental drift has since been subsumed by the theory of plate tectonics, which explains that the continents move by riding on plates of the Earth's lithosphere.\n",
      "\n",
      "\t165.568\tContinental drift is the theory that the Earth's continents have moved over geologic time relative to each other, thus appearing to have \"drifted\" across the ocean bed. The speculation that continents might have 'drifted' was first put forward by Abraham Ortelius in 1596. The concept was independently and more fully developed by Alfred Wegener in 1912, but his theory was rejected by many for lack of any motive mechanism. Arthur Holmes later proposed mantle convection for that mechanism. The idea of continental drift has since been subsumed by the theory of plate tectonics, which explains that the continents move by riding on plates of the Earth's lithosphere.\n",
      "\n",
      "\t165.568\tContinental drift is the theory that the Earth's continents have moved over geologic time relative to each other, thus appearing to have \"drifted\" across the ocean bed. The speculation that continents might have 'drifted' was first put forward by Abraham Ortelius in 1596. The concept was independently and more fully developed by Alfred Wegener in 1912, but his theory was rejected by many for lack of any motive mechanism. Arthur Holmes later proposed mantle convection for that mechanism. The idea of continental drift has since been subsumed by the theory of plate tectonics, which explains that the continents move by riding on plates of the Earth's lithosphere.\n",
      "\n",
      "\t165.568\tContinental drift is the theory that the Earth's continents have moved over geologic time relative to each other, thus appearing to have \"drifted\" across the ocean bed. The speculation that continents might have 'drifted' was first put forward by Abraham Ortelius in 1596. The concept was independently and more fully developed by Alfred Wegener in 1912, but his theory was rejected by many for lack of any motive mechanism. Arthur Holmes later proposed mantle convection for that mechanism. The idea of continental drift has since been subsumed by the theory of plate tectonics, which explains that the continents move by riding on plates of the Earth's lithosphere.\n",
      "\n",
      "\n",
      "-------------------------\n",
      "\n",
      "Top-3 Cross-Encoder Re-ranker hits\n",
      "\t0.996\tThe theory of plate tectonics demonstrates that the continents of the Earth are moving across the surface at the rate of a few centimeters per year. This is expected to continue, causing the plates to relocate and collide. Continental drift is facilitated by two factors: the energy generation within the planet and the presence of a hydrosphere. With the loss of either of these, continental drift will come to a halt. The production of heat through radiogenic processes is sufficient to maintain mantle convection and plate subduction for at least the next 1.1 billion years. \n",
      "\t0.996\tThe theory of plate tectonics demonstrates that the continents of the Earth are moving across the surface at the rate of a few centimeters per year. This is expected to continue, causing the plates to relocate and collide. Continental drift is facilitated by two factors: the energy generation within the planet and the presence of a hydrosphere. With the loss of either of these, continental drift will come to a halt. The production of heat through radiogenic processes is sufficient to maintain mantle convection and plate subduction for at least the next 1.1 billion years. \n",
      "\t0.967\tContinental drift is the theory that the Earth's continents have moved over geologic time relative to each other, thus appearing to have \"drifted\" across the ocean bed. The speculation that continents might have 'drifted' was first put forward by Abraham Ortelius in 1596. The concept was independently and more fully developed by Alfred Wegener in 1912, but his theory was rejected by many for lack of any motive mechanism. Arthur Holmes later proposed mantle convection for that mechanism. The idea of continental drift has since been subsumed by the theory of plate tectonics, which explains that the continents move by riding on plates of the Earth's lithosphere. \n"
     ]
    }
   ],
   "source": [
    "search_and_rank(\"What affect continental drift?\")"
   ]
  },
  {
   "cell_type": "code",
   "execution_count": null,
   "id": "24e955e8",
   "metadata": {},
   "outputs": [],
   "source": []
  }
 ],
 "metadata": {
  "kernelspec": {
   "display_name": "Python 3",
   "language": "python",
   "name": "python3"
  },
  "language_info": {
   "codemirror_mode": {
    "name": "ipython",
    "version": 3
   },
   "file_extension": ".py",
   "mimetype": "text/x-python",
   "name": "python",
   "nbconvert_exporter": "python",
   "pygments_lexer": "ipython3",
   "version": "3.8.0"
  }
 },
 "nbformat": 4,
 "nbformat_minor": 5
}
