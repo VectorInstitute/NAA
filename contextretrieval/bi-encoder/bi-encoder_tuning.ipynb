{
  "cells": [
    {
      "cell_type": "code",
      "execution_count": null,
      "id": "b597f8e5",
      "metadata": {
        "id": "b597f8e5"
      },
      "outputs": [],
      "source": [
        "import json \n",
        "import pandas as pd\n",
        "import torch\n",
        "from datetime import datetime\n",
        "from sentence_transformers import SentenceTransformer, evaluation, losses, InputExample, datasets\n",
        "from sentence_transformers import util as sentenceutils\n",
        "device = torch.device('cuda' if torch.cuda.is_available() else 'cpu')"
      ]
    },
    {
      "cell_type": "code",
      "execution_count": null,
      "id": "a74a5e80",
      "metadata": {
        "id": "a74a5e80"
      },
      "outputs": [],
      "source": [
        "# path to eli5 or wizard of wikipedia \n",
        "data_folder = usr_path+ '/bi-encoder/eli5/splits/' "
      ]
    },
    {
      "cell_type": "markdown",
      "id": "a19cef57",
      "metadata": {
        "id": "a19cef57"
      },
      "source": [
        "### Read Train Samples"
      ]
    },
    {
      "cell_type": "code",
      "execution_count": null,
      "id": "019f95ac",
      "metadata": {
        "id": "019f95ac"
      },
      "outputs": [],
      "source": [
        "# read training data\n",
        "train_pairs = pd.read_csv(data_folder + 'train_pairs.csv')"
      ]
    },
    {
      "cell_type": "code",
      "execution_count": null,
      "id": "89433c89",
      "metadata": {
        "id": "89433c89"
      },
      "outputs": [],
      "source": [
        "# format training pairs for data loader\n",
        "# Multiple Negatives Ranking Loss requires input pairs [query, relevant_passage]\n",
        "\n",
        "train_questions = train_pairs['input'].tolist()\n",
        "train_passages = train_pairs['passages_text'].tolist()\n",
        "\n",
        "pairs = [list(i) for i in zip(train_questions, train_passages)]\n",
        "\n",
        "train_samples = []\n",
        "for p in range(0, len(pairs)):\n",
        "    train_samples.append(InputExample(texts=pairs[p]))"
      ]
    },
    {
      "cell_type": "markdown",
      "id": "36953e80",
      "metadata": {
        "id": "36953e80"
      },
      "source": [
        "### Create DataLoader"
      ]
    },
    {
      "cell_type": "code",
      "execution_count": null,
      "id": "6149afda",
      "metadata": {
        "id": "6149afda"
      },
      "outputs": [],
      "source": [
        "# load base model \n",
        "model = 'msmarco-distilbert-base-tas-b'\n",
        "bi_encoder = SentenceTransformer(model) "
      ]
    },
    {
      "cell_type": "code",
      "execution_count": null,
      "id": "28bc386c",
      "metadata": {
        "id": "28bc386c"
      },
      "outputs": [],
      "source": [
        "train_batch_size = 16\n",
        "num_epochs = 3"
      ]
    },
    {
      "cell_type": "code",
      "execution_count": null,
      "id": "12f1a739",
      "metadata": {
        "id": "12f1a739"
      },
      "outputs": [],
      "source": [
        "# Multiple Negatives Ranking Loss requires no duplicate passages or queries, \n",
        "# so no duplicates data loader is used\n",
        "\n",
        "train_dataloader = datasets.NoDuplicatesDataLoader(train_samples, batch_size=train_batch_size)\n",
        "train_loss = losses.MultipleNegativesRankingLoss(bi_encoder, scale=1, similarity_fct=sentenceutils.dot_score)"
      ]
    },
    {
      "cell_type": "markdown",
      "id": "a7d3d627",
      "metadata": {
        "id": "a7d3d627"
      },
      "source": [
        "### Set up Evaluator"
      ]
    },
    {
      "cell_type": "code",
      "execution_count": null,
      "id": "66c1d80f",
      "metadata": {
        "id": "66c1d80f"
      },
      "outputs": [],
      "source": [
        "# set up information retrieval evaluator for evaluation during training\n",
        "\n",
        "test_passages = pd.read_csv(data_folder + 'test_passages.csv', converters={'relevant_ids': pd.eval})\n",
        "test_corpus = pd.read_csv(data_folder + 'test_corpus.csv')\n",
        "\n",
        "passages = dict(zip(test_passages['id'], test_passages['passages_text']))\n",
        "\n",
        "test_passages['relevant_ids'] = test_passages['relevant_ids'].apply(set)\n",
        "relevant_docs = dict(zip(test_passages['id'], test_passages['relevant_ids']))\n",
        "\n",
        "corpus = dict(zip(test_corpus['id'], test_corpus['input']))\n",
        "    \n",
        "ir_evaluator = evaluation.InformationRetrievalEvaluator(passages, corpus, relevant_docs)"
      ]
    },
    {
      "cell_type": "markdown",
      "id": "3e6d92f7",
      "metadata": {
        "id": "3e6d92f7"
      },
      "source": [
        "### Tune Model"
      ]
    },
    {
      "cell_type": "code",
      "execution_count": null,
      "id": "0193c357",
      "metadata": {
        "id": "0193c357"
      },
      "outputs": [],
      "source": [
        "output_folder = usr_path+ '/bi-encoder/eli5/tuned_models/' "
      ]
    },
    {
      "cell_type": "code",
      "execution_count": null,
      "id": "19346496",
      "metadata": {
        "id": "19346496"
      },
      "outputs": [],
      "source": [
        "warmup_steps = int(len(train_dataloader) * num_epochs * 0.1) #10% of training data"
      ]
    },
    {
      "cell_type": "code",
      "execution_count": null,
      "id": "9495ca18",
      "metadata": {
        "colab": {
          "referenced_widgets": [
            "4e53b03829df4b50a4c1eaf05ebecd32",
            "5df18fffd454416e8488471cefe36c03",
            "48c028671be14ce881567513ace99038",
            "d21a55b690d944218803b6241d1f7493"
          ]
        },
        "id": "9495ca18",
        "outputId": "d92d723b-6f3b-4a04-91e4-c5671215d40c",
        "scrolled": true
      },
      "outputs": [
        {
          "data": {
            "application/vnd.jupyter.widget-view+json": {
              "model_id": "4e53b03829df4b50a4c1eaf05ebecd32",
              "version_major": 2,
              "version_minor": 0
            },
            "text/plain": [
              "Epoch:   0%|          | 0/3 [00:00<?, ?it/s]"
            ]
          },
          "metadata": {},
          "output_type": "display_data"
        },
        {
          "data": {
            "application/vnd.jupyter.widget-view+json": {
              "model_id": "5df18fffd454416e8488471cefe36c03",
              "version_major": 2,
              "version_minor": 0
            },
            "text/plain": [
              "Iteration:   0%|          | 0/3718 [00:00<?, ?it/s]"
            ]
          },
          "metadata": {},
          "output_type": "display_data"
        },
        {
          "data": {
            "application/vnd.jupyter.widget-view+json": {
              "model_id": "48c028671be14ce881567513ace99038",
              "version_major": 2,
              "version_minor": 0
            },
            "text/plain": [
              "Iteration:   0%|          | 0/3718 [00:00<?, ?it/s]"
            ]
          },
          "metadata": {},
          "output_type": "display_data"
        },
        {
          "data": {
            "application/vnd.jupyter.widget-view+json": {
              "model_id": "d21a55b690d944218803b6241d1f7493",
              "version_major": 2,
              "version_minor": 0
            },
            "text/plain": [
              "Iteration:   0%|          | 0/3718 [00:00<?, ?it/s]"
            ]
          },
          "metadata": {},
          "output_type": "display_data"
        }
      ],
      "source": [
        "bi_encoder.fit(train_objectives=[(train_dataloader, train_loss)],\n",
        "               evaluator=ir_evaluator,\n",
        "               epochs=num_epochs,\n",
        "               warmup_steps=warmup_steps, \n",
        "               show_progress_bar=True,\n",
        "               output_path=output_folder+model+datetime.now().strftime(\"%Y-%m-%d_%H-%M-%S\") \n",
        "              )"
      ]
    }
  ],
  "metadata": {
    "colab": {
      "collapsed_sections": [],
      "name": "bi-encoder_tuning.ipynb",
      "provenance": []
    },
    "kernelspec": {
      "display_name": "Python 3 (ipykernel)",
      "language": "python",
      "name": "python3"
    },
    "language_info": {
      "codemirror_mode": {
        "name": "ipython",
        "version": 3
      },
      "file_extension": ".py",
      "mimetype": "text/x-python",
      "name": "python",
      "nbconvert_exporter": "python",
      "pygments_lexer": "ipython3",
      "version": "3.8.0"
    }
  },
  "nbformat": 4,
  "nbformat_minor": 5
}
