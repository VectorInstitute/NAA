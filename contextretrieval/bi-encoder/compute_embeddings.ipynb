{
  "cells": [
    {
      "cell_type": "code",
      "execution_count": null,
      "id": "f052060d",
      "metadata": {
        "id": "f052060d"
      },
      "outputs": [],
      "source": [
        "import json \n",
        "import pandas as pd\n",
        "import torch\n",
        "from sentence_transformers import SentenceTransformer, CrossEncoder\n",
        "import pickle\n",
        "device = torch.device('cuda' if torch.cuda.is_available() else 'cpu')"
      ]
    },
    {
      "cell_type": "code",
      "execution_count": null,
      "id": "5c64fcc2",
      "metadata": {
        "id": "5c64fcc2"
      },
      "outputs": [],
      "source": [
        "data_path = '/data/Eli5/Eli5_reranked/eli5_reranked.json'"
      ]
    },
    {
      "cell_type": "code",
      "execution_count": null,
      "id": "3373d36a",
      "metadata": {
        "id": "3373d36a"
      },
      "outputs": [],
      "source": [
        "# read dataset\n",
        "with open(data_path, 'r') as f:\n",
        "    data = json.load(f)\n",
        "\n",
        "data = pd.read_json(data, orient='records')"
      ]
    },
    {
      "cell_type": "code",
      "execution_count": null,
      "id": "6ba077c1",
      "metadata": {
        "id": "6ba077c1"
      },
      "outputs": [],
      "source": [
        "# format of title differs between eli5 & wow datasets\n",
        "# passage titles only needed when using facebook dpr encoder\n",
        "\n",
        "passage_titles = []\n",
        "if 'output' in data.columns:\n",
        "    for i in range(len(data)):\n",
        "        title = data['output'][i][0]['provenance'][0]['title']\n",
        "        passage_titles.append(title)\n",
        "else:\n",
        "    for i in range(len(data)):\n",
        "        title = data['passages'][i][0]['title']\n",
        "        passage_titles.append(title)"
      ]
    },
    {
      "cell_type": "code",
      "execution_count": null,
      "id": "77248065",
      "metadata": {
        "id": "77248065"
      },
      "outputs": [],
      "source": [
        "model = 'msmarco-distilbert-base-tas-b'\n",
        "bi_encoder = SentenceTransformer(model)"
      ]
    },
    {
      "cell_type": "code",
      "execution_count": null,
      "id": "42fee320",
      "metadata": {
        "id": "42fee320"
      },
      "outputs": [],
      "source": [
        "# passage format for DPR context encoder needs 'title [SEP] passage' as format\n",
        "\n",
        "if 'dpr' in model:\n",
        "    passages = []\n",
        "    for i in range(0,len(data)):\n",
        "        passages.append(passage_titles[i]+ ' [SEP] ' + data['passages_text'][i])\n",
        "else:\n",
        "    passages = list(data['passages_text'])"
      ]
    },
    {
      "cell_type": "code",
      "execution_count": null,
      "id": "4a927199",
      "metadata": {
        "colab": {
          "referenced_widgets": [
            "91bc18adadff4fc18ab6feec22f87b6d"
          ]
        },
        "id": "4a927199",
        "outputId": "3d0bee27-4ccc-43e8-8ea6-2f82ca13ca36",
        "scrolled": true
      },
      "outputs": [
        {
          "data": {
            "application/vnd.jupyter.widget-view+json": {
              "model_id": "91bc18adadff4fc18ab6feec22f87b6d",
              "version_major": 2,
              "version_minor": 0
            },
            "text/plain": [
              "Batches:   0%|          | 0/1794 [00:00<?, ?it/s]"
            ]
          },
          "metadata": {},
          "output_type": "display_data"
        }
      ],
      "source": [
        "corpus_embeddings = bi_encoder.encode(passages, convert_to_tensor=True, show_progress_bar=True)"
      ]
    },
    {
      "cell_type": "code",
      "execution_count": null,
      "id": "496c0c8c",
      "metadata": {
        "id": "496c0c8c"
      },
      "outputs": [],
      "source": [
        "# save corpus embeddings \n",
        "output_path = '/contextretrieval/bi-encoder/wow/embeddings/msmarco-distilbert-base-tas-b.pickle'\n",
        "with open(output_path, 'wb') as pkl:\n",
        "    pickle.dump(corpus_embeddings, pkl)"
      ]
    }
  ],
  "metadata": {
    "colab": {
      "collapsed_sections": [],
      "name": "compute_embeddings.ipynb",
      "provenance": []
    },
    "kernelspec": {
      "display_name": "Python 3 (ipykernel)",
      "language": "python",
      "name": "python3"
    },
    "language_info": {
      "codemirror_mode": {
        "name": "ipython",
        "version": 3
      },
      "file_extension": ".py",
      "mimetype": "text/x-python",
      "name": "python",
      "nbconvert_exporter": "python",
      "pygments_lexer": "ipython3",
      "version": "3.8.0"
    }
  },
  "nbformat": 4,
  "nbformat_minor": 5
}
