{
  "cells": [
    {
      "cell_type": "code",
      "execution_count": null,
      "id": "b597f8e5",
      "metadata": {
        "id": "b597f8e5"
      },
      "outputs": [],
      "source": [
        "import json \n",
        "import pandas as pd\n",
        "import torch\n",
        "import time\n",
        "from sentence_transformers import SentenceTransformer, evaluation\n",
        "device = torch.device('cuda' if torch.cuda.is_available() else 'cpu')"
      ]
    },
    {
      "cell_type": "code",
      "execution_count": null,
      "id": "482a20f6",
      "metadata": {
        "id": "482a20f6"
      },
      "outputs": [],
      "source": [
        "# change paths depending on eli5 or wow \n",
        "data_folder = '/contextretrieval/bi-encoder/wow/splits/'\n",
        "\n",
        "# output path stores csv file of results\n",
        "output_path = '/contextretrieval/bi-encoder/wow/results/'"
      ]
    },
    {
      "cell_type": "code",
      "execution_count": null,
      "id": "b927ea84",
      "metadata": {
        "id": "b927ea84"
      },
      "outputs": [],
      "source": [
        "def evaluator(model, test_passages, test_corpus, output_path):\n",
        "    passages = dict(zip(test_passages['id'], test_passages['passages_text']))\n",
        "    \n",
        "    for index, row in test_passages.iterrows():\n",
        "        row['relevant_ids'] = set(row['relevant_ids'])\n",
        "\n",
        "    relevant_docs = dict(zip(test_passages['id'], test_passages['relevant_ids']))\n",
        "    corpus = dict(zip(test_corpus['id'], test_corpus['input']))\n",
        "    \n",
        "    ir_evaluator = evaluation.InformationRetrievalEvaluator(passages, corpus, relevant_docs)\n",
        "    \n",
        "    return ir_evaluator(model, output_path=output_path)"
      ]
    },
    {
      "cell_type": "code",
      "execution_count": null,
      "id": "259e9604",
      "metadata": {
        "id": "259e9604",
        "scrolled": true
      },
      "outputs": [],
      "source": [
        "# load model \n",
        "bi_encoder = SentenceTransformer('msmarco-distilbert-base-tas-b') \n",
        "\n",
        "# read test data \n",
        "test_passages = pd.read_csv(data_folder + 'test_passages.csv', converters={'relevant_ids': pd.eval})\n",
        "test_corpus = pd.read_csv(data_folder + 'test_corpus.csv')"
      ]
    },
    {
      "cell_type": "code",
      "execution_count": null,
      "id": "88fba1a9",
      "metadata": {
        "id": "88fba1a9"
      },
      "outputs": [],
      "source": [
        "evaluator(bi_encoder, test_passages, test_corpus, output_path)"
      ]
    }
  ],
  "metadata": {
    "colab": {
      "collapsed_sections": [],
      "name": "bi-encoder_eval.ipynb",
      "provenance": []
    },
    "kernelspec": {
      "display_name": "Python 3 (ipykernel)",
      "language": "python",
      "name": "python3"
    },
    "language_info": {
      "codemirror_mode": {
        "name": "ipython",
        "version": 3
      },
      "file_extension": ".py",
      "mimetype": "text/x-python",
      "name": "python",
      "nbconvert_exporter": "python",
      "pygments_lexer": "ipython3",
      "version": "3.8.0"
    }
  },
  "nbformat": 4,
  "nbformat_minor": 5
}
