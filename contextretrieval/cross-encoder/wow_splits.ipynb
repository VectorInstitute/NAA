{
  "cells": [
    {
      "cell_type": "code",
      "execution_count": null,
      "id": "6130ee0a",
      "metadata": {
        "id": "6130ee0a"
      },
      "outputs": [],
      "source": [
        "import json \n",
        "import pandas as pd\n",
        "import random "
      ]
    },
    {
      "cell_type": "code",
      "execution_count": null,
      "id": "e2e9eb81",
      "metadata": {
        "id": "e2e9eb81"
      },
      "outputs": [],
      "source": [
        "data_path = '/contextretrieval/data/Wizard_of_Wikipedia/wizard_of_wikipedia.json'\n",
        "output_folder = '/contextretrieval/cross-encoder/wow/splits/' "
      ]
    },
    {
      "cell_type": "code",
      "execution_count": null,
      "id": "1794f8a6",
      "metadata": {
        "id": "1794f8a6"
      },
      "outputs": [],
      "source": [
        "# read dataset \n",
        "with open(data_path, 'r') as f:\n",
        "    data = json.load(f)\n",
        "\n",
        "data = pd.read_json(data, orient='records')"
      ]
    },
    {
      "cell_type": "code",
      "execution_count": null,
      "id": "171f08e0",
      "metadata": {
        "id": "171f08e0"
      },
      "outputs": [],
      "source": [
        "# randomly shuffle dataset\n",
        "data = data.sample(frac=1).reset_index(drop=True)"
      ]
    },
    {
      "cell_type": "code",
      "execution_count": null,
      "id": "4d19266b",
      "metadata": {
        "id": "4d19266b"
      },
      "outputs": [],
      "source": [
        "pairs = data[['input', 'passages_text']]\n",
        "\n",
        "# randomly select 90% of data for train \n",
        "train_pairs = data[['input', 'passages_text']].sample(frac=0.90)  \n",
        "train_pairs = train_pairs.rename(columns={'passages_text':'passage'})\n",
        "\n",
        "# drop train pairs from data to create test \n",
        "test_pairs = pairs.drop(train_pairs.index)"
      ]
    },
    {
      "cell_type": "code",
      "execution_count": null,
      "id": "de12fd2b",
      "metadata": {
        "id": "de12fd2b"
      },
      "outputs": [],
      "source": [
        "# create positive & negative train pairs \n",
        "# for every positive pair, there are 4 negative pairs \n",
        "\n",
        "positive_train_pairs = train_pairs.sample(frac=0.20) \n",
        "positive_train_pairs['label'] = 1.0\n",
        " \n",
        "negative_train_pairs = train_pairs.drop(positive_train_pairs.index)\n",
        "negative_passages = list(negative_train_pairs['passage'].sample(frac=1))\n",
        "negative_train_pairs['passage'] = negative_passages\n",
        "negative_train_pairs['label'] = 0.0\n",
        "\n",
        "train_pairs = pd.concat([positive_train_pairs, negative_train_pairs])\n",
        "train_pairs = train_pairs.sample(frac=1).reset_index(drop=True)"
      ]
    },
    {
      "cell_type": "code",
      "execution_count": null,
      "id": "47a70674",
      "metadata": {
        "id": "47a70674"
      },
      "outputs": [],
      "source": [
        "# create test samples \n",
        "\n",
        "positive_test_pairs = test_pairs.sample(frac=0.02)\n",
        "negative_test_passages = list(test_pairs.drop(positive_test_pairs.index)['passages_text'])\n",
        "\n",
        "num_neg_passages = int(len(negative_test_passages)/len(positive_test_pairs)) # number of negative passages per positive pair\n",
        "negative_test_passages = [negative_test_passages[x:x+num_neg_passages] for x in range(0, len(negative_test_passages), num_neg_passages)]\n",
        "negative_test_passages = negative_test_passages[:len(positive_test_pairs)]\n",
        "positive_test_pairs['negative'] = negative_test_passages"
      ]
    },
    {
      "cell_type": "code",
      "execution_count": null,
      "id": "509132d9",
      "metadata": {
        "id": "509132d9"
      },
      "outputs": [],
      "source": [
        "test_samples = positive_test_pairs.rename(columns={'input':'query', 'passages_text':'positive'})\n",
        "test_samples['positive'] = [[x] for x in test_samples['positive']]\n",
        "test_samples = test_samples.reset_index(drop=True)"
      ]
    },
    {
      "cell_type": "code",
      "execution_count": null,
      "id": "5d39b25e",
      "metadata": {
        "id": "5d39b25e"
      },
      "outputs": [],
      "source": [
        "# save splits \n",
        "train_pairs.to_csv(output_folder + 'train_pairs_reranker.csv', index=False)\n",
        "test_samples.to_csv(output_folder + 'test_samples_reranker.csv', index=False)"
      ]
    }
  ],
  "metadata": {
    "colab": {
      "collapsed_sections": [],
      "name": "wow_splits.ipynb",
      "provenance": []
    },
    "kernelspec": {
      "display_name": "Python 3 (ipykernel)",
      "language": "python",
      "name": "python3"
    },
    "language_info": {
      "codemirror_mode": {
        "name": "ipython",
        "version": 3
      },
      "file_extension": ".py",
      "mimetype": "text/x-python",
      "name": "python",
      "nbconvert_exporter": "python",
      "pygments_lexer": "ipython3",
      "version": "3.8.0"
    }
  },
  "nbformat": 4,
  "nbformat_minor": 5
}
