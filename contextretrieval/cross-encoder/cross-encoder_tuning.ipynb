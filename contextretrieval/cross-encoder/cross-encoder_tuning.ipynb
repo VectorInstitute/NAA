{
  "cells": [
    {
      "cell_type": "code",
      "execution_count": null,
      "id": "f1af9815",
      "metadata": {
        "id": "f1af9815"
      },
      "outputs": [],
      "source": [
        "import json \n",
        "import pandas as pd\n",
        "from datetime import datetime\n",
        "import torch\n",
        "from torch import nn\n",
        "from torch.utils.data import DataLoader\n",
        "from sentence_transformers import SentenceTransformer, CrossEncoder, evaluation, InputExample, datasets\n",
        "from sentence_transformers.cross_encoder.evaluation import CERerankingEvaluator\n",
        "from sentence_transformers import util as sentenceutils\n",
        "device = torch.device('cuda' if torch.cuda.is_available() else 'cpu')\n",
        "import random \n",
        "import math"
      ]
    },
    {
      "cell_type": "code",
      "execution_count": null,
      "id": "052d7fd7",
      "metadata": {
        "id": "052d7fd7"
      },
      "outputs": [],
      "source": [
        "# change path depending on dataset\n",
        "data_folder = '/contextretrieval/cross-encoder/wow/splits/' "
      ]
    },
    {
      "cell_type": "code",
      "execution_count": null,
      "id": "07972eae",
      "metadata": {
        "id": "07972eae"
      },
      "outputs": [],
      "source": [
        "train_pairs = pd.read_csv(data_folder + 'train_pairs.csv')\n",
        "test_samples = pd.read_csv(data_folder + 'test_samples.csv', converters={'positive': pd.eval, 'negative': pd.eval})"
      ]
    },
    {
      "cell_type": "markdown",
      "id": "8092f2c0",
      "metadata": {
        "id": "8092f2c0"
      },
      "source": [
        "### Train Samples"
      ]
    },
    {
      "cell_type": "code",
      "execution_count": null,
      "id": "a2e16827",
      "metadata": {
        "id": "a2e16827"
      },
      "outputs": [],
      "source": [
        "train_samples = []\n",
        "\n",
        "for i in range(0, len(train_pairs)):\n",
        "    train_samples.append(InputExample(texts=[train_pairs['input'][i], train_pairs['passage'][i]], label = train_pairs['label'][i]))"
      ]
    },
    {
      "cell_type": "code",
      "execution_count": null,
      "id": "9bfd4773",
      "metadata": {
        "id": "9bfd4773"
      },
      "outputs": [],
      "source": [
        "train_batch_size = 16\n",
        "num_epochs = 3"
      ]
    },
    {
      "cell_type": "code",
      "execution_count": null,
      "id": "34dd70a8",
      "metadata": {
        "id": "34dd70a8"
      },
      "outputs": [],
      "source": [
        "train_dataloader = DataLoader(train_samples, shuffle=True, batch_size=train_batch_size)"
      ]
    },
    {
      "cell_type": "markdown",
      "id": "da498dd6",
      "metadata": {
        "id": "da498dd6"
      },
      "source": [
        "### Test Samples"
      ]
    },
    {
      "cell_type": "code",
      "execution_count": null,
      "id": "87eaf186",
      "metadata": {
        "id": "87eaf186"
      },
      "outputs": [],
      "source": [
        "test_samples['negative'] = test_samples['negative'].apply(set)\n",
        "test_samples['positive'] = test_samples['positive'].apply(set)"
      ]
    },
    {
      "cell_type": "code",
      "execution_count": null,
      "id": "b8ba297d",
      "metadata": {
        "id": "b8ba297d"
      },
      "outputs": [],
      "source": [
        "test_samples = test_samples.to_dict('index') "
      ]
    },
    {
      "cell_type": "markdown",
      "id": "7edf0d7e",
      "metadata": {
        "id": "7edf0d7e"
      },
      "source": [
        "## Train Model "
      ]
    },
    {
      "cell_type": "code",
      "execution_count": 1,
      "id": "a96b3977",
      "metadata": {
        "id": "a96b3977"
      },
      "outputs": [],
      "source": [
        "# load base model \n",
        "cross_encoder = CrossEncoder('/contextretrieval/cross-encoder/ms-marco-MiniLM-L-6-v2',num_labels=1, max_length=512)"
      ]
    },
    {
      "cell_type": "code",
      "execution_count": null,
      "id": "676bb38f",
      "metadata": {
        "id": "676bb38f"
      },
      "outputs": [],
      "source": [
        "warmup_steps = math.ceil(len(train_dataloader) * num_epochs * 0.1)"
      ]
    },
    {
      "cell_type": "code",
      "execution_count": null,
      "id": "cf9a895b",
      "metadata": {
        "id": "cf9a895b"
      },
      "outputs": [],
      "source": [
        "evaluator = CERerankingEvaluator(test_samples)"
      ]
    },
    {
      "cell_type": "code",
      "execution_count": null,
      "id": "dc603c26",
      "metadata": {
        "id": "dc603c26"
      },
      "outputs": [],
      "source": [
        "output_folder = '/contextretrieval/cross-encoder/wow/tuned_models'"
      ]
    },
    {
      "cell_type": "code",
      "execution_count": null,
      "id": "fb9d2cbf",
      "metadata": {
        "id": "fb9d2cbf",
        "scrolled": true
      },
      "outputs": [],
      "source": [
        "cross_encoder.fit(train_dataloader=train_dataloader,\n",
        "          evaluator=evaluator,\n",
        "          epochs=num_epochs,\n",
        "          evaluation_steps=500,\n",
        "          warmup_steps=warmup_steps,\n",
        "          output_path=output_folder+'ms-marco-MiniLM-L-6-v2'+datetime.now().strftime(\"%Y-%m-%d_%H-%M-%S\"),\n",
        "          use_amp=True)"
      ]
    }
  ],
  "metadata": {
    "colab": {
      "collapsed_sections": [],
      "name": "cross-encoder_tuning.ipynb",
      "provenance": []
    },
    "kernelspec": {
      "display_name": "Python 3 (ipykernel)",
      "language": "python",
      "name": "python3"
    },
    "language_info": {
      "codemirror_mode": {
        "name": "ipython",
        "version": 3
      },
      "file_extension": ".py",
      "mimetype": "text/x-python",
      "name": "python",
      "nbconvert_exporter": "python",
      "pygments_lexer": "ipython3",
      "version": "3.8.0"
    }
  },
  "nbformat": 4,
  "nbformat_minor": 5
}
