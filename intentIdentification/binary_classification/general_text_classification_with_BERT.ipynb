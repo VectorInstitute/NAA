{
 "cells": [
  {
   "cell_type": "markdown",
   "metadata": {
    "id": "ePVSga5E_a-e"
   },
   "source": [
    "# Binary Classification Text Classification with BERT"
   ]
  },
  {
   "cell_type": "code",
   "execution_count": 1,
   "metadata": {
    "colab": {
     "base_uri": "https://localhost:8080/"
    },
    "id": "y5mj8cpdM_O3",
    "outputId": "bc49f8a3-dbbd-4c97-a6cf-7ba2118d0eed"
   },
   "outputs": [
    {
     "name": "stderr",
     "output_type": "stream",
     "text": [
      "Global seed set to 123\n"
     ]
    }
   ],
   "source": [
    "import os\n",
    "import json\n",
    "import pandas as pd\n",
    "import numpy as np\n",
    "\n",
    "from tqdm.auto import tqdm\n",
    "\n",
    "import torch\n",
    "import torch.nn as nn\n",
    "from torch.utils.data import Dataset, DataLoader\n",
    "\n",
    "from transformers import BertTokenizerFast as BertTokenizer, BertModel, AdamW, get_linear_schedule_with_warmup\n",
    "\n",
    "import pytorch_lightning as pl\n",
    "from pytorch_lightning.metrics.functional import accuracy, f1, auroc\n",
    "from pytorch_lightning.callbacks import ModelCheckpoint, EarlyStopping\n",
    "from pytorch_lightning.loggers import TensorBoardLogger\n",
    "\n",
    "from sklearn.model_selection import train_test_split\n",
    "from sklearn.metrics import classification_report, multilabel_confusion_matrix\n",
    "\n",
    "import seaborn as sns\n",
    "from pylab import rcParams\n",
    "import matplotlib.pyplot as plt\n",
    "from matplotlib import rc\n",
    "from matplotlib.pyplot import figure\n",
    "\n",
    "%matplotlib inline\n",
    "\n",
    "RANDOM_SEED = 123\n",
    "\n",
    "pl.seed_everything(RANDOM_SEED)\n",
    "pd.options.display.max_colwidth = 100"
   ]
  },
  {
   "cell_type": "code",
   "execution_count": 2,
   "metadata": {},
   "outputs": [],
   "source": [
    "# Require to change: \n",
    "parent_dir = '~/Conv_BERT/task-specific-datasets/banking_data/'\n",
    "train_path = parent_dir + 'train.csv'\n",
    "test_path = parent_dir + 'test.csv'\n",
    "logging_path = 'lightning_logs_temp'\n",
    "checkpoint_path = 'checkpoints_temp'\n",
    "BERT_MODEL_NAME = 'bert-base-cased'\n",
    "MAX_TOKEN_COUNT = 300\n",
    "N_EPOCHS = 2\n",
    "BATCH_SIZE = 6\n",
    "dialog_data_file = '/h/elau/Conv_BERT/multilabel_class_part1/outputMul2.2.json'\n",
    "valid_list_file = '/h/elau/Conv_BERT/multilabel_class_part1/MultiWOZ_2.1/valListFile.txt'\n",
    "test_list_file = '/h/elau/Conv_BERT/multilabel_class_part1/MultiWOZ_2.1/testListFile.txt'"
   ]
  },
  {
   "cell_type": "markdown",
   "metadata": {
    "id": "btZjckeJs5j7"
   },
   "source": [
    "## Data Processing"
   ]
  },
  {
   "cell_type": "code",
   "execution_count": 3,
   "metadata": {},
   "outputs": [],
   "source": [
    "def load_json(data_file):\n",
    "    if os.path.isfile(data_file):\n",
    "        with open(data_file, 'r') as read_file:\n",
    "            data = json.load(read_file)\n",
    "            return data\n",
    "\n",
    "def load_list_file(list_file):\n",
    "    with open(list_file, 'r') as read_file:\n",
    "        dialog_id_list = read_file.readlines()\n",
    "        dialog_id_list = [l.strip('\\n') for l in dialog_id_list]\n",
    "        return dialog_id_list"
   ]
  },
  {
   "cell_type": "code",
   "execution_count": 4,
   "metadata": {},
   "outputs": [
    {
     "name": "stdout",
     "output_type": "stream",
     "text": [
      "# of train dialogs: 8437\n",
      "# of valid dialogs: 1000\n",
      "# of test dialogs : 1000\n"
     ]
    }
   ],
   "source": [
    "dialog_data = load_json(dialog_data_file)\n",
    "dialog_id_list = list(set(dialog_data.keys()))\n",
    "\n",
    "valid_id_list = list(set(load_list_file(valid_list_file)))\n",
    "test_id_list = load_list_file(test_list_file)\n",
    "train_id_list = [did for did in dialog_id_list if did not in (valid_id_list + test_id_list)]\n",
    "\n",
    "print('# of train dialogs:', len(train_id_list))\n",
    "print('# of valid dialogs:', len(valid_id_list))\n",
    "print('# of test dialogs :', len(test_id_list))\n",
    "assert(len(dialog_id_list) == len(train_id_list) + len(valid_id_list) + len(test_id_list))\n",
    "\n",
    "train_data = [v for k, v in dialog_data.items() if k in train_id_list]\n",
    "valid_data = [v for k, v in dialog_data.items() if k in valid_id_list]\n",
    "test_data = [v for k, v in dialog_data.items() if k in test_id_list]\n",
    "assert(len(train_data) == len(train_id_list))\n",
    "assert(len(valid_data) == len(valid_id_list))\n",
    "assert(len(test_data) == len(test_id_list))"
   ]
  },
  {
   "cell_type": "code",
   "execution_count": 5,
   "metadata": {},
   "outputs": [
    {
     "name": "stdout",
     "output_type": "stream",
     "text": [
      "10437\n",
      "{'goal': {'attraction': {}, 'hospital': {}, 'hotel': {'book': {'day': 'saturday', 'invalid': False, 'people': '6', 'pre_invalid': True, 'stay': '1'}, 'fail_book': {'stay': '2'}, 'fail_info': {}, 'info': {'internet': 'no', 'stars': '3', 'type': 'guesthouse'}}, 'message': ['You are looking for information in Cambridge', \"You are looking for a <span class='emphasis'>place to dine</span>. The restaurant should serve <span class='emphasis'>indian</span> food and should be in the <span class='emphasis'>expensive</span> price range\", \"The restaurant should be in the <span class='emphasis'>centre</span>\", \"Once you find the <span class='emphasis'>restaurant</span> you want to book a table for <span class='emphasis'>6 people</span> at <span class='emphasis'>19:30</span> on <span class='emphasis'>saturday</span>\", \"Make sure you get the <span class='emphasis'>reference number</span>\", \"You are also looking for a <span class='emphasis'>hotel</span>. The hotel should have <span class='emphasis'>a star of 3</span> and <span class='emphasis'>doesn't need to include internet</span>\", \"The hotel should be in the type of <span class='emphasis'>guesthouse</span>\", \"Once you find the <span class='emphasis'>hotel</span> you want to book it for <span class='emphasis'>the same group of people</span> and <span class='emphasis'>2 nights</span> starting from <span class='emphasis'>the same day</span>\", \"If the booking fails how about <span class='emphasis'>1 nights</span>\", \"Make sure you get the <span class='emphasis'>reference number</span>\"], 'police': {}, 'restaurant': {'book': {'day': 'saturday', 'invalid': False, 'people': '6', 'time': '19:30'}, 'fail_book': {}, 'fail_info': {}, 'info': {'area': 'centre', 'food': 'indian', 'pricerange': 'expensive'}}, 'taxi': {}, 'train': {}}, 'log': [{'dialog_act': {'Restaurant-Inform': [['food', 'indian']]}, 'metadata': {}, 'span_info': [['Restaurant-Inform', 'food', 'indian', 71, 77]], 'text': \"I'd really like to take my client out to a nice restaurant that serves indian food.\"}, {'dialog_act': {'Restaurant-Inform': [['choice', 'many'], ['food', 'Indian'], ['pricerange', 'that price range']], 'Restaurant-Request': [['area', '?']]}, 'metadata': {'attraction': {'book': {'booked': []}, 'semi': {'area': [], 'name': [], 'type': []}}, 'hospital': {'book': {'booked': []}, 'semi': {'department': []}}, 'hotel': {'book': {'booked': [], 'day': [], 'people': [], 'stay': []}, 'semi': {'area': [], 'internet': [], 'name': [], 'parking': [], 'pricerange': [], 'stars': [], 'type': []}}, 'police': {'book': {'booked': []}, 'semi': {}}, 'restaurant': {'book': {'booked': [], 'day': [], 'people': [], 'time': []}, 'semi': {'area': [], 'food': ['indian'], 'name': [], 'pricerange': ['expensive']}}, 'taxi': {'book': {'booked': []}, 'semi': {'arriveBy': [], 'departure': [], 'destination': [], 'leaveAt': []}}, 'train': {'book': {'booked': [], 'ticket': []}, 'semi': {'arriveBy': [], 'day': [], 'departure': [], 'destination': [], 'leaveAt': []}}}, 'span_info': [['Restaurant-Inform', 'choice', 'many', 7, 11], ['Restaurant-Inform', 'food', 'Indian', 35, 41], ['Restaurant-Inform', 'pricerange', 'that price range', 50, 66]], 'text': 'I show many restaurants that serve Indian food in that price range. What area would you like to travel to?'}, {'dialog_act': {'Restaurant-Inform': [['area', 'centre'], ['food', 'indian'], ['pricerange', 'expensive']]}, 'metadata': {}, 'span_info': [['Restaurant-Inform', 'pricerange', 'expensive', 20, 29], ['Restaurant-Inform', 'food', 'indian', 30, 36], ['Restaurant-Inform', 'area', 'centre', 63, 69]], 'text': 'I am looking for an expensive indian restaurant in the area of centre.'}, {'dialog_act': {'Booking-Inform': [['none', 'none']], 'Restaurant-Recommend': [['area', 'center of town'], ['food', 'Indian'], ['name', 'Saffron Brasserie'], ['pricerange', 'expensive']]}, 'metadata': {'attraction': {'book': {'booked': []}, 'semi': {'area': [], 'name': [], 'type': []}}, 'hospital': {'book': {'booked': []}, 'semi': {'department': []}}, 'hotel': {'book': {'booked': [], 'day': [], 'people': [], 'stay': []}, 'semi': {'area': [], 'internet': [], 'name': [], 'parking': [], 'pricerange': [], 'stars': [], 'type': []}}, 'police': {'book': {'booked': []}, 'semi': {}}, 'restaurant': {'book': {'booked': [], 'day': [], 'people': [], 'time': []}, 'semi': {'area': ['centre'], 'food': ['indian'], 'name': [], 'pricerange': ['expensive']}}, 'taxi': {'book': {'booked': []}, 'semi': {'arriveBy': [], 'departure': [], 'destination': [], 'leaveAt': []}}, 'train': {'book': {'booked': [], 'ticket': []}, 'semi': {'arriveBy': [], 'day': [], 'departure': [], 'destination': [], 'leaveAt': []}}}, 'span_info': [['Restaurant-Recommend', 'name', 'Saffron Brasserie', 18, 35], ['Restaurant-Recommend', 'pricerange', 'expensive', 48, 57], ['Restaurant-Recommend', 'food', 'Indian', 58, 64], ['Restaurant-Recommend', 'area', 'center of town', 83, 97]], 'text': 'Might I recommend Saffron Brasserie? That is an expensive Indian restaurant in the center of town. I can book a table for you, if you like.'}, {'dialog_act': {'Restaurant-Inform': [['bookday', 'saturday'], ['bookpeople', '6'], ['booktime', '19:30']]}, 'metadata': {}, 'span_info': [['Restaurant-Inform', 'bookpeople', '6', 28, 29], ['Restaurant-Inform', 'booktime', '19:30', 40, 45], ['Restaurant-Inform', 'bookday', 'saturday', 49, 57]], 'text': 'Sure thing, please book for 6 people at 19:30 on Saturday.'}, {'dialog_act': {'Booking-Book': [['ref', 'RF00JUFQ']]}, 'metadata': {'attraction': {'book': {'booked': []}, 'semi': {'area': [], 'name': [], 'type': []}}, 'hospital': {'book': {'booked': []}, 'semi': {'department': []}}, 'hotel': {'book': {'booked': [], 'day': [], 'people': [], 'stay': []}, 'semi': {'area': [], 'internet': [], 'name': [], 'parking': [], 'pricerange': [], 'stars': [], 'type': []}}, 'police': {'book': {'booked': []}, 'semi': {}}, 'restaurant': {'book': {'booked': [{'name': ['saffron brasserie'], 'reference': 'RF00JUFQ'}], 'day': ['saturday'], 'people': ['6'], 'time': ['19:30']}, 'semi': {'area': ['centre'], 'food': ['indian'], 'name': ['saffron brasserie'], 'pricerange': ['expensive']}}, 'taxi': {'book': {'booked': []}, 'semi': {'arriveBy': [], 'departure': [], 'destination': [], 'leaveAt': []}}, 'train': {'book': {'booked': [], 'ticket': []}, 'semi': {'arriveBy': [], 'day': [], 'departure': [], 'destination': [], 'leaveAt': []}}}, 'span_info': [['Booking-Book', 'ref', 'RF00JUFQ', 94, 102]], 'text': 'Booking was successful. The table will be reserved for 15 minutes. Your Reference number is : RF00JUFQ .'}, {'dialog_act': {'Hotel-Inform': [['internet', 'no'], ['stars', '3']]}, 'metadata': {}, 'span_info': [['Hotel-Inform', 'stars', '3', 61, 62]], 'text': \"Okay great! Thank you so much. Could you also help me find a 3 star hotel in the area. I don't need wifi either.\"}, {'dialog_act': {'Booking-Inform': [['none', 'none']], 'Hotel-Inform': [['area', 'north'], ['internet', 'yes'], ['name', 'The alpha-milton guest house'], ['parking', 'yes'], ['pricerange', 'moderately priced'], ['stars', '3']]}, 'metadata': {'attraction': {'book': {'booked': []}, 'semi': {'area': [], 'name': [], 'type': []}}, 'hospital': {'book': {'booked': []}, 'semi': {'department': []}}, 'hotel': {'book': {'booked': [], 'day': [], 'people': [], 'stay': []}, 'semi': {'area': [], 'internet': ['no'], 'name': [], 'parking': [], 'pricerange': [], 'stars': ['3'], 'type': []}}, 'police': {'book': {'booked': []}, 'semi': {}}, 'restaurant': {'book': {'booked': [{'name': ['saffron brasserie'], 'reference': 'RF00JUFQ'}], 'day': ['saturday'], 'people': ['6'], 'time': ['19:30']}, 'semi': {'area': ['centre'], 'food': ['indian'], 'name': ['saffron brasserie'], 'pricerange': ['expensive']}}, 'taxi': {'book': {'booked': []}, 'semi': {'arriveBy': [], 'departure': [], 'destination': [], 'leaveAt': []}}, 'train': {'book': {'booked': [], 'ticket': []}, 'semi': {'arriveBy': [], 'day': [], 'departure': [], 'destination': [], 'leaveAt': []}}}, 'span_info': [['Hotel-Inform', 'name', 'The alpha-milton guest house', 0, 28], ['Hotel-Inform', 'area', 'north', 39, 44], ['Hotel-Inform', 'pricerange', 'moderately priced', 52, 69], ['Hotel-Inform', 'stars', '3', 78, 79]], 'text': 'The alpha-milton guest house is in the north and is moderately priced. It has 3 stars and no internet or parking. Would you like to book a room?'}, {'dialog_act': {'Hotel-Inform': [['internet', 'no'], ['parking', 'no']]}, 'metadata': {}, 'span_info': [], 'text': 'That sounds great. Please book that now.'}, {'dialog_act': {'Booking-Request': [['bookpeople', '?']]}, 'metadata': {'attraction': {'book': {'booked': []}, 'semi': {'area': [], 'name': [], 'type': []}}, 'hospital': {'book': {'booked': []}, 'semi': {'department': []}}, 'hotel': {'book': {'booked': [], 'day': [], 'people': [], 'stay': []}, 'semi': {'area': [], 'internet': ['no'], 'name': ['alpha-milton guest house'], 'parking': [], 'pricerange': [], 'stars': ['3'], 'type': []}}, 'police': {'book': {'booked': []}, 'semi': {}}, 'restaurant': {'book': {'booked': [{'name': ['saffron brasserie'], 'reference': 'RF00JUFQ'}], 'day': ['saturday'], 'people': ['6'], 'time': ['19:30']}, 'semi': {'area': ['centre'], 'food': ['indian'], 'name': ['saffron brasserie'], 'pricerange': ['expensive']}}, 'taxi': {'book': {'booked': []}, 'semi': {'arriveBy': [], 'departure': [], 'destination': [], 'leaveAt': []}}, 'train': {'book': {'booked': [], 'ticket': []}, 'semi': {'arriveBy': [], 'day': [], 'departure': [], 'destination': [], 'leaveAt': []}}}, 'span_info': [], 'text': 'May I ask how many people are in your group?'}, {'dialog_act': {'Hotel-Inform': [['bookpeople', '6']]}, 'metadata': {}, 'span_info': [['Hotel-Inform', 'bookpeople', '6', 7, 8]], 'text': 'I have 6 people in my group.'}, {'dialog_act': {'Booking-Request': [['bookstay', '?']]}, 'metadata': {'attraction': {'book': {'booked': []}, 'semi': {'area': [], 'name': [], 'type': []}}, 'hospital': {'book': {'booked': []}, 'semi': {'department': []}}, 'hotel': {'book': {'booked': [], 'day': [], 'people': ['6'], 'stay': []}, 'semi': {'area': [], 'internet': ['no'], 'name': ['alpha-milton guest house'], 'parking': [], 'pricerange': [], 'stars': ['3'], 'type': []}}, 'police': {'book': {'booked': []}, 'semi': {}}, 'restaurant': {'book': {'booked': [{'name': ['saffron brasserie'], 'reference': 'RF00JUFQ'}], 'day': ['saturday'], 'people': ['6'], 'time': ['19:30']}, 'semi': {'area': ['centre'], 'food': ['indian'], 'name': ['saffron brasserie'], 'pricerange': ['expensive']}}, 'taxi': {'book': {'booked': []}, 'semi': {'arriveBy': [], 'departure': [], 'destination': [], 'leaveAt': []}}, 'train': {'book': {'booked': [], 'ticket': []}, 'semi': {'arriveBy': [], 'day': [], 'departure': [], 'destination': [], 'leaveAt': []}}}, 'span_info': [], 'text': 'How many days would you like to stay?'}, {'dialog_act': {'Hotel-Inform': [['bookday', 'saturday'], ['bookstay', '2']]}, 'metadata': {}, 'span_info': [['Hotel-Inform', 'bookstay', '2', 0, 1], ['Hotel-Inform', 'bookday', 'saturday', 23, 31]], 'text': '2 nights, starting the same day as the reservation.'}, {'dialog_act': {'Booking-NoBook': [['none', 'none']]}, 'metadata': {'attraction': {'book': {'booked': []}, 'semi': {'area': [], 'name': [], 'type': []}}, 'hospital': {'book': {'booked': []}, 'semi': {'department': []}}, 'hotel': {'book': {'booked': [], 'day': ['saturday'], 'people': ['6'], 'stay': ['2']}, 'semi': {'area': [], 'internet': ['no'], 'name': ['alpha-milton guest house'], 'parking': [], 'pricerange': [], 'stars': ['3'], 'type': []}}, 'police': {'book': {'booked': []}, 'semi': {}}, 'restaurant': {'book': {'booked': [{'name': ['saffron brasserie'], 'reference': 'RF00JUFQ'}], 'day': ['saturday'], 'people': ['6'], 'time': ['19:30']}, 'semi': {'area': ['centre'], 'food': ['indian'], 'name': ['saffron brasserie'], 'pricerange': ['expensive']}}, 'taxi': {'book': {'booked': []}, 'semi': {'arriveBy': [], 'departure': [], 'destination': [], 'leaveAt': []}}, 'train': {'book': {'booked': [], 'ticket': []}, 'semi': {'arriveBy': [], 'day': [], 'departure': [], 'destination': [], 'leaveAt': []}}}, 'span_info': [], 'text': \"I'm sorry. It looks like they're full. Would you like me to look for something else?\"}, {'dialog_act': {}, 'metadata': {}, 'span_info': [], 'text': 'Yes please. Is there something else available in that area?'}, {'dialog_act': {'Hotel-Inform': [['area', 'that area'], ['stars', '3'], ['type', 'hotel']], 'Hotel-Request': [['area', '?']]}, 'metadata': {'attraction': {'book': {'booked': []}, 'semi': {'area': [], 'name': [], 'type': []}}, 'hospital': {'book': {'booked': []}, 'semi': {'department': []}}, 'hotel': {'book': {'booked': [], 'day': ['saturday'], 'people': ['6'], 'stay': ['2']}, 'semi': {'area': [], 'internet': ['no'], 'name': ['alpha-milton guest house'], 'parking': [], 'pricerange': [], 'stars': ['3'], 'type': []}}, 'police': {'book': {'booked': []}, 'semi': {}}, 'restaurant': {'book': {'booked': [{'name': ['saffron brasserie'], 'reference': 'RF00JUFQ'}], 'day': ['saturday'], 'people': ['6'], 'time': ['19:30']}, 'semi': {'area': ['centre'], 'food': ['indian'], 'name': ['saffron brasserie'], 'pricerange': ['expensive']}}, 'taxi': {'book': {'booked': []}, 'semi': {'arriveBy': [], 'departure': [], 'destination': [], 'leaveAt': []}}, 'train': {'book': {'booked': [], 'ticket': []}, 'semi': {'arriveBy': [], 'day': [], 'departure': [], 'destination': [], 'leaveAt': []}}}, 'span_info': [['Hotel-Inform', 'stars', '3', 42, 43], ['Hotel-Inform', 'type', 'hotel', 49, 54], ['Hotel-Inform', 'area', 'that area', 58, 67]], 'text': \"I'm sorry, it looks like that is the only 3 star hotel in that area, would you like me to look somewhere else?\"}, {'dialog_act': {'Hotel-Inform': [['bookstay', '1']]}, 'metadata': {}, 'span_info': [['Hotel-Inform', 'bookstay', '1', 15, 16]], 'text': \"Can we try for 1 night instead of 2? I'll need the reference number please.\"}, {'dialog_act': {'Booking-Book': [['bookstay', 'one'], ['ref', '9XVT8M5T']]}, 'metadata': {'attraction': {'book': {'booked': []}, 'semi': {'area': [], 'name': [], 'type': []}}, 'hospital': {'book': {'booked': []}, 'semi': {'department': []}}, 'hotel': {'book': {'booked': [{'name': ['alpha-milton guest house'], 'reference': '9XVT8M5T'}], 'day': ['saturday'], 'people': ['6'], 'stay': ['1']}, 'semi': {'area': [], 'internet': ['no'], 'name': ['alpha-milton guest house'], 'parking': [], 'pricerange': [], 'stars': ['3'], 'type': []}}, 'police': {'book': {'booked': []}, 'semi': {}}, 'restaurant': {'book': {'booked': [{'name': ['saffron brasserie'], 'reference': 'RF00JUFQ'}], 'day': ['saturday'], 'people': ['6'], 'time': ['19:30']}, 'semi': {'area': ['centre'], 'food': ['indian'], 'name': ['saffron brasserie'], 'pricerange': ['expensive']}}, 'taxi': {'book': {'booked': []}, 'semi': {'arriveBy': [], 'departure': [], 'destination': [], 'leaveAt': []}}, 'train': {'book': {'booked': [], 'ticket': []}, 'semi': {'arriveBy': [], 'day': [], 'departure': [], 'destination': [], 'leaveAt': []}}}, 'span_info': [['Booking-Book', 'bookstay', 'one', 18, 21], ['Booking-Book', 'ref', '9XVT8M5T', 53, 61]], 'text': 'I was able to get one night, the reference number is 9XVT8M5T .'}, {'dialog_act': {'general-thank': [['none', 'none']]}, 'metadata': {}, 'span_info': [], 'text': 'Thank you so much!'}, {'dialog_act': {'general-welcome': [['none', 'none']]}, 'metadata': {'attraction': {'book': {'booked': []}, 'semi': {'area': [], 'name': [], 'type': []}}, 'hospital': {'book': {'booked': []}, 'semi': {'department': []}}, 'hotel': {'book': {'booked': [{'name': ['alpha-milton guest house'], 'reference': '9XVT8M5T'}], 'day': ['saturday'], 'people': ['6'], 'stay': ['1']}, 'semi': {'area': [], 'internet': ['no'], 'name': ['alpha-milton guest house'], 'parking': [], 'pricerange': [], 'stars': ['3'], 'type': []}}, 'police': {'book': {'booked': []}, 'semi': {}}, 'restaurant': {'book': {'booked': [{'name': ['saffron brasserie'], 'reference': 'RF00JUFQ'}], 'day': ['saturday'], 'people': ['6'], 'time': ['19:30']}, 'semi': {'area': ['centre'], 'food': ['indian'], 'name': ['saffron brasserie'], 'pricerange': ['expensive']}}, 'taxi': {'book': {'booked': []}, 'semi': {'arriveBy': [], 'departure': [], 'destination': [], 'leaveAt': []}}, 'train': {'book': {'booked': [], 'ticket': []}, 'semi': {'arriveBy': [], 'day': [], 'departure': [], 'destination': [], 'leaveAt': []}}}, 'span_info': [], 'text': \"I'm glad to help, you're welcome!\"}]}\n"
     ]
    }
   ],
   "source": [
    "data = train_data + valid_data + test_data\n",
    "print(len(data))\n",
    "print(train_data[0])"
   ]
  },
  {
   "cell_type": "code",
   "execution_count": 6,
   "metadata": {},
   "outputs": [],
   "source": [
    "questions = []\n",
    "answers = []\n",
    "overall_intents = []\n",
    "domains_v1 = []\n",
    "general_intents = []\n",
    "original_data = []\n",
    "original_user_data = [] \n",
    "\n",
    "def get_dst_diff(prev_d, crnt_d):\n",
    "    diff = {}\n",
    "    for ((k1, v1), (k2, v2)) in zip(prev_d.items(), crnt_d.items()):\n",
    "        if v1 != v2: # updated\n",
    "            diff[k2] = v2\n",
    "    return diff\n",
    "\n",
    "def analyze_dialog(d, print_dialog=True):\n",
    "    domains = []\n",
    "    ignore_keys_in_goal = ['eod', 'messageLen', 'message'] # eod (probably) means the user archieved the goal. \n",
    "    for dom_k, dom_v  in d['goal'].items():\n",
    "        if dom_v and dom_k not in ignore_keys_in_goal: # check whether contains some goal entities\n",
    "            domains.append(dom_k)\n",
    "#     print('{} domain(s): {}'.format(len(domains), domains))\n",
    "\n",
    "    prev_user = ''\n",
    "    if print_dialog:\n",
    "        prev_d = None\n",
    "        for i, t in enumerate(d['log']):\n",
    "            spk = 'Usr' if i % 2 == 0 else 'Sys' # Turn 0 is always a user's turn in this corpus.\n",
    "            if spk == 'Sys':\n",
    "                if prev_d is None:\n",
    "                    prev_d = t['metadata']\n",
    "                else:\n",
    "                    crnt_d = t['metadata']\n",
    "                    dst_diff = get_dst_diff(prev_d, crnt_d)\n",
    "                    user_intent = t['dialog_act']\n",
    "                    if user_intent != {}:\n",
    "                        get_intent = user_intent\n",
    "                        get_intent = list(get_intent.keys())[0]\n",
    "                        \n",
    "                    \n",
    "                    curr_intents = ''\n",
    "                    for domain, rest in dst_diff.items():\n",
    "#                      print(dst_diff)\n",
    "                      for intent in rest:\n",
    "                        for key, value in rest[intent].items():\n",
    "                          if value != 'not mentioned' and value != '' and value != []:\n",
    "#                             print(value)\n",
    "#                             print('Updated DST:', dst_diff)\n",
    "                            # print(\"CURRENT INTENTS\", intent + \" \" + key)\n",
    "                            curr_intents = curr_intents + domain + \"-\" + intent + \"-\" + key + \" \"\n",
    "                    if dst_diff != {} and curr_intents != '' and user_intent != {}:\n",
    "#                         print(\"**************************\")\n",
    "#                         print('Updated DST:', t)\n",
    "                        questions.append(u)\n",
    "                        answers.append(t['text'])\n",
    "                        domains_v1.append(list(dst_diff.keys()))\n",
    "                        temp = []\n",
    "#                         for x in get_intent:\n",
    "#                             temp.append(x.split('-')[1])\n",
    "                        general_intents.append(get_intent.split('-')[1])\n",
    "                        overall_intents.append(curr_intents)\n",
    "                        original_data.append(t)\n",
    "                        original_user_data.append(prev_data)\n",
    "                        break\n",
    "#                     \n",
    "                    prev_d = crnt_d\n",
    "            u = t['text']\n",
    "#             user_intent = t['dialog_act']\n",
    "            prev_data = t\n",
    "            # print('{}: {}'.format(spk, u))\n",
    "\n",
    "for d in data:\n",
    "#     print('-' * 50)\n",
    "    analyze_dialog(d, True)"
   ]
  },
  {
   "cell_type": "code",
   "execution_count": 7,
   "metadata": {},
   "outputs": [
    {
     "name": "stdout",
     "output_type": "stream",
     "text": [
      "SUMMARY\n",
      "DOMAIN\n",
      "['restaurant']\n",
      "OVERALL INTENTS\n",
      "restaurant-semi-area restaurant-semi-food \n",
      "QUESTIONS\n",
      "I'd like to have some Chinese food.\n",
      "ANSWERS\n",
      "That narrows down the restaurant choices to 10. Is there a price range you would like to stay in?\n",
      "GENERIC INTENT\n",
      "Inform\n",
      "CHECKING IF LENGTH IS THE SAME\n",
      "True\n",
      "9731\n"
     ]
    }
   ],
   "source": [
    "print(\"SUMMARY\")\n",
    "print(\"DOMAIN\")\n",
    "print(domains_v1[1])\n",
    "print(\"OVERALL INTENTS\")\n",
    "print(overall_intents[1])\n",
    "print(\"QUESTIONS\")\n",
    "print(questions[1])\n",
    "print(\"ANSWERS\")\n",
    "print(answers[1])\n",
    "print(\"GENERIC INTENT\")\n",
    "print(general_intents[1])\n",
    "# print(\"ORIGINAL USER\")\n",
    "# print(original_user_data[1])\n",
    "# print(\"ORIGINAL SYSTEM\")\n",
    "# print(original_data[1])\n",
    "\n",
    "print(\"CHECKING IF LENGTH IS THE SAME\")\n",
    "print(len(domains_v1) == len(overall_intents) == len(questions) == len(answers))\n",
    "print(len(questions))"
   ]
  },
  {
   "cell_type": "code",
   "execution_count": 8,
   "metadata": {},
   "outputs": [
    {
     "name": "stdout",
     "output_type": "stream",
     "text": [
      "1473\n",
      "11204\n",
      "11204\n"
     ]
    }
   ],
   "source": [
    "df_general = pd.read_csv('/h/elau/Conv_BERT/botframework-smalltalk/smalltalkkb.tsv', sep='\\t')\n",
    "df_general_questions = list(df_general['Question'])\n",
    "answers = answers + df_general_questions\n",
    "df_general_intents = []\n",
    "for i in range(len(df_general_questions)):\n",
    "    df_general_intents.append('general')\n",
    "print(len(df_general_intents))\n",
    "general_intents = general_intents + df_general_intents\n",
    "print(len(general_intents))\n",
    "print(len(answers))"
   ]
  },
  {
   "cell_type": "code",
   "execution_count": 9,
   "metadata": {},
   "outputs": [],
   "source": [
    "thisdict = {\n",
    "    \"welcome\": \"remove\",\n",
    "    \"thank\": \"remove\",\n",
    "    \"greet\": \"remove\",\n",
    "    \"OfferBooked\": 'request',\n",
    "    \"OfferBook\": 'request',\n",
    "    \"Recommend\": 'request',\n",
    "    \"Inform\": 'request',\n",
    "    \"Book\": 'request',\n",
    "    \"Request\": 'request',\n",
    "    'NoBook': 'request',\n",
    "    'bye': 'remove',\n",
    "    'NoOffer': 'request',\n",
    "    'Select': 'remove', \n",
    "    'reqmore': 'remove',\n",
    "    'general': 'general'\n",
    "}"
   ]
  },
  {
   "cell_type": "code",
   "execution_count": 10,
   "metadata": {},
   "outputs": [
    {
     "name": "stdout",
     "output_type": "stream",
     "text": [
      "14\n",
      "['Request', 'Select', 'reqmore', 'welcome', 'OfferBook', 'Book', 'NoOffer', 'NoBook', 'Inform', 'bye', 'greet', 'OfferBooked', 'general', 'Recommend']\n",
      "Counter({'restaurant': 3067, 'hotel': 2502, 'train': 2376, 'attraction': 1376, 'taxi': 436, 'hospital': 44, 'bus': 3})\n"
     ]
    }
   ],
   "source": [
    "# Get the unique values in the intents\n",
    "unique_intents = list(set(general_intents)) \n",
    "print(len(unique_intents))\n",
    "print(unique_intents)\n",
    "\n",
    "from collections import Counter\n",
    "flattened = [val for sublist in domains_v1 for val in sublist]\n",
    "print(Counter(flattened))"
   ]
  },
  {
   "cell_type": "code",
   "execution_count": 11,
   "metadata": {},
   "outputs": [
    {
     "name": "stdout",
     "output_type": "stream",
     "text": [
      "['general', 'request', 'remove']\n"
     ]
    }
   ],
   "source": [
    "mapping_intents = thisdict.values()\n",
    "mapping_intents = list(set(mapping_intents))\n",
    "generic_intents = mapping_intents\n",
    "print(generic_intents)"
   ]
  },
  {
   "cell_type": "code",
   "execution_count": 12,
   "metadata": {},
   "outputs": [],
   "source": [
    "# Converting the intents into categorical columns \n",
    "def preprocessing(mapping_intents):\n",
    "    cat_overall_intents = []\n",
    "\n",
    "    for i in range(len(general_intents)):\n",
    "        cat_curr_intent = []\n",
    "\n",
    "        for ele in mapping_intents:\n",
    "    #         print(general_intents[i])\n",
    "            if thisdict.get(general_intents[i]) == ele:\n",
    "                cat_curr_intent.append(1)\n",
    "            else: \n",
    "                cat_curr_intent.append(0)\n",
    "        cat_overall_intents.append(cat_curr_intent)\n",
    "        \n",
    "    d1 = {'cat_overall_intents': cat_overall_intents}\n",
    "    df2 = pd.DataFrame(d1)\n",
    "    df3 = pd.DataFrame(df2['cat_overall_intents'].to_list(), columns=generic_intents)\n",
    "    return df3"
   ]
  },
  {
   "cell_type": "code",
   "execution_count": 13,
   "metadata": {},
   "outputs": [
    {
     "data": {
      "text/html": [
       "<div>\n",
       "<style scoped>\n",
       "    .dataframe tbody tr th:only-of-type {\n",
       "        vertical-align: middle;\n",
       "    }\n",
       "\n",
       "    .dataframe tbody tr th {\n",
       "        vertical-align: top;\n",
       "    }\n",
       "\n",
       "    .dataframe thead th {\n",
       "        text-align: right;\n",
       "    }\n",
       "</style>\n",
       "<table border=\"1\" class=\"dataframe\">\n",
       "  <thead>\n",
       "    <tr style=\"text-align: right;\">\n",
       "      <th></th>\n",
       "      <th>general</th>\n",
       "      <th>request</th>\n",
       "      <th>remove</th>\n",
       "    </tr>\n",
       "  </thead>\n",
       "  <tbody>\n",
       "    <tr>\n",
       "      <th>0</th>\n",
       "      <td>0</td>\n",
       "      <td>1</td>\n",
       "      <td>0</td>\n",
       "    </tr>\n",
       "    <tr>\n",
       "      <th>1</th>\n",
       "      <td>0</td>\n",
       "      <td>1</td>\n",
       "      <td>0</td>\n",
       "    </tr>\n",
       "    <tr>\n",
       "      <th>2</th>\n",
       "      <td>0</td>\n",
       "      <td>1</td>\n",
       "      <td>0</td>\n",
       "    </tr>\n",
       "    <tr>\n",
       "      <th>3</th>\n",
       "      <td>0</td>\n",
       "      <td>0</td>\n",
       "      <td>1</td>\n",
       "    </tr>\n",
       "    <tr>\n",
       "      <th>4</th>\n",
       "      <td>0</td>\n",
       "      <td>1</td>\n",
       "      <td>0</td>\n",
       "    </tr>\n",
       "    <tr>\n",
       "      <th>...</th>\n",
       "      <td>...</td>\n",
       "      <td>...</td>\n",
       "      <td>...</td>\n",
       "    </tr>\n",
       "    <tr>\n",
       "      <th>11199</th>\n",
       "      <td>1</td>\n",
       "      <td>0</td>\n",
       "      <td>0</td>\n",
       "    </tr>\n",
       "    <tr>\n",
       "      <th>11200</th>\n",
       "      <td>1</td>\n",
       "      <td>0</td>\n",
       "      <td>0</td>\n",
       "    </tr>\n",
       "    <tr>\n",
       "      <th>11201</th>\n",
       "      <td>1</td>\n",
       "      <td>0</td>\n",
       "      <td>0</td>\n",
       "    </tr>\n",
       "    <tr>\n",
       "      <th>11202</th>\n",
       "      <td>1</td>\n",
       "      <td>0</td>\n",
       "      <td>0</td>\n",
       "    </tr>\n",
       "    <tr>\n",
       "      <th>11203</th>\n",
       "      <td>1</td>\n",
       "      <td>0</td>\n",
       "      <td>0</td>\n",
       "    </tr>\n",
       "  </tbody>\n",
       "</table>\n",
       "<p>11204 rows × 3 columns</p>\n",
       "</div>"
      ],
      "text/plain": [
       "       general  request  remove\n",
       "0            0        1       0\n",
       "1            0        1       0\n",
       "2            0        1       0\n",
       "3            0        0       1\n",
       "4            0        1       0\n",
       "...        ...      ...     ...\n",
       "11199        1        0       0\n",
       "11200        1        0       0\n",
       "11201        1        0       0\n",
       "11202        1        0       0\n",
       "11203        1        0       0\n",
       "\n",
       "[11204 rows x 3 columns]"
      ]
     },
     "execution_count": 13,
     "metadata": {},
     "output_type": "execute_result"
    }
   ],
   "source": [
    "df3 = preprocessing(mapping_intents)\n",
    "df3"
   ]
  },
  {
   "cell_type": "markdown",
   "metadata": {},
   "source": [
    "### Dataset 2"
   ]
  },
  {
   "cell_type": "code",
   "execution_count": 14,
   "metadata": {},
   "outputs": [],
   "source": [
    "df = pd.DataFrame(\n",
    "    {'comment_text': answers\n",
    "    })\n",
    "df = pd.concat([df, df3], axis=1)\n",
    "df_request = df[df['request'] == 1].drop(['general', 'remove'], 1)\n",
    "df_general = df[df['general'] == 1].drop(['remove', 'request'], 1)\n",
    "df_request = df_request.sample(n=len(df_general), random_state=1)"
   ]
  },
  {
   "cell_type": "code",
   "execution_count": 15,
   "metadata": {},
   "outputs": [
    {
     "data": {
      "text/html": [
       "<div>\n",
       "<style scoped>\n",
       "    .dataframe tbody tr th:only-of-type {\n",
       "        vertical-align: middle;\n",
       "    }\n",
       "\n",
       "    .dataframe tbody tr th {\n",
       "        vertical-align: top;\n",
       "    }\n",
       "\n",
       "    .dataframe thead th {\n",
       "        text-align: right;\n",
       "    }\n",
       "</style>\n",
       "<table border=\"1\" class=\"dataframe\">\n",
       "  <thead>\n",
       "    <tr style=\"text-align: right;\">\n",
       "      <th></th>\n",
       "      <th>comment_text</th>\n",
       "      <th>general</th>\n",
       "      <th>request</th>\n",
       "    </tr>\n",
       "  </thead>\n",
       "  <tbody>\n",
       "    <tr>\n",
       "      <th>0</th>\n",
       "      <td>wanna hug</td>\n",
       "      <td>1.0</td>\n",
       "      <td>0.0</td>\n",
       "    </tr>\n",
       "    <tr>\n",
       "      <th>1</th>\n",
       "      <td>Yes I have one Spanish restaurant matching your price range and criteria. Would you like their n...</td>\n",
       "      <td>0.0</td>\n",
       "      <td>1.0</td>\n",
       "    </tr>\n",
       "    <tr>\n",
       "      <th>2</th>\n",
       "      <td>Okay. Can you give me a time that you'd prefer to leave after or arrive by?</td>\n",
       "      <td>0.0</td>\n",
       "      <td>1.0</td>\n",
       "    </tr>\n",
       "    <tr>\n",
       "      <th>3</th>\n",
       "      <td>you are very helpful</td>\n",
       "      <td>1.0</td>\n",
       "      <td>0.0</td>\n",
       "    </tr>\n",
       "    <tr>\n",
       "      <th>4</th>\n",
       "      <td>I have 13 in the centre area of town. The emmanuel college is nice and it is free.</td>\n",
       "      <td>0.0</td>\n",
       "      <td>1.0</td>\n",
       "    </tr>\n",
       "    <tr>\n",
       "      <th>...</th>\n",
       "      <td>...</td>\n",
       "      <td>...</td>\n",
       "      <td>...</td>\n",
       "    </tr>\n",
       "    <tr>\n",
       "      <th>2941</th>\n",
       "      <td>glad to meet you</td>\n",
       "      <td>1.0</td>\n",
       "      <td>0.0</td>\n",
       "    </tr>\n",
       "    <tr>\n",
       "      <th>2942</th>\n",
       "      <td>The Riverside Brasserie serves modern european cuisine in the Centre area of town, it is moderat...</td>\n",
       "      <td>0.0</td>\n",
       "      <td>1.0</td>\n",
       "    </tr>\n",
       "    <tr>\n",
       "      <th>2943</th>\n",
       "      <td>Yes I have the Curry Garden at 106 Regent Street City Centre. Would you like their telephone num...</td>\n",
       "      <td>0.0</td>\n",
       "      <td>1.0</td>\n",
       "    </tr>\n",
       "    <tr>\n",
       "      <th>2944</th>\n",
       "      <td>how is your day going</td>\n",
       "      <td>1.0</td>\n",
       "      <td>0.0</td>\n",
       "    </tr>\n",
       "    <tr>\n",
       "      <th>2945</th>\n",
       "      <td>you're very special to me</td>\n",
       "      <td>1.0</td>\n",
       "      <td>0.0</td>\n",
       "    </tr>\n",
       "  </tbody>\n",
       "</table>\n",
       "<p>2946 rows × 3 columns</p>\n",
       "</div>"
      ],
      "text/plain": [
       "                                                                                             comment_text  \\\n",
       "0                                                                                               wanna hug   \n",
       "1     Yes I have one Spanish restaurant matching your price range and criteria. Would you like their n...   \n",
       "2                             Okay. Can you give me a time that you'd prefer to leave after or arrive by?   \n",
       "3                                                                                    you are very helpful   \n",
       "4                      I have 13 in the centre area of town. The emmanuel college is nice and it is free.   \n",
       "...                                                                                                   ...   \n",
       "2941                                                                                     glad to meet you   \n",
       "2942  The Riverside Brasserie serves modern european cuisine in the Centre area of town, it is moderat...   \n",
       "2943  Yes I have the Curry Garden at 106 Regent Street City Centre. Would you like their telephone num...   \n",
       "2944                                                                                how is your day going   \n",
       "2945                                                                            you're very special to me   \n",
       "\n",
       "      general  request  \n",
       "0         1.0      0.0  \n",
       "1         0.0      1.0  \n",
       "2         0.0      1.0  \n",
       "3         1.0      0.0  \n",
       "4         0.0      1.0  \n",
       "...       ...      ...  \n",
       "2941      1.0      0.0  \n",
       "2942      0.0      1.0  \n",
       "2943      0.0      1.0  \n",
       "2944      1.0      0.0  \n",
       "2945      1.0      0.0  \n",
       "\n",
       "[2946 rows x 3 columns]"
      ]
     },
     "execution_count": 15,
     "metadata": {},
     "output_type": "execute_result"
    }
   ],
   "source": [
    "df = pd.concat([df_general, df_request])\n",
    "df = df.sample(frac=1).reset_index(drop=True)\n",
    "df['general'] = df['general'].fillna(0)\n",
    "df['request'] = df['request'].fillna(0)\n",
    "df"
   ]
  },
  {
   "cell_type": "code",
   "execution_count": 16,
   "metadata": {},
   "outputs": [
    {
     "data": {
      "text/html": [
       "<div>\n",
       "<style scoped>\n",
       "    .dataframe tbody tr th:only-of-type {\n",
       "        vertical-align: middle;\n",
       "    }\n",
       "\n",
       "    .dataframe tbody tr th {\n",
       "        vertical-align: top;\n",
       "    }\n",
       "\n",
       "    .dataframe thead th {\n",
       "        text-align: right;\n",
       "    }\n",
       "</style>\n",
       "<table border=\"1\" class=\"dataframe\">\n",
       "  <thead>\n",
       "    <tr style=\"text-align: right;\">\n",
       "      <th></th>\n",
       "      <th>comment_text</th>\n",
       "      <th>general</th>\n",
       "      <th>request</th>\n",
       "    </tr>\n",
       "  </thead>\n",
       "  <tbody>\n",
       "    <tr>\n",
       "      <th>0</th>\n",
       "      <td>wanna hug</td>\n",
       "      <td>1.0</td>\n",
       "      <td>0.0</td>\n",
       "    </tr>\n",
       "    <tr>\n",
       "      <th>1</th>\n",
       "      <td>Yes I have one Spanish restaurant matching your price range and criteria. Would you like their n...</td>\n",
       "      <td>0.0</td>\n",
       "      <td>1.0</td>\n",
       "    </tr>\n",
       "    <tr>\n",
       "      <th>2</th>\n",
       "      <td>Okay. Can you give me a time that you'd prefer to leave after or arrive by?</td>\n",
       "      <td>0.0</td>\n",
       "      <td>1.0</td>\n",
       "    </tr>\n",
       "    <tr>\n",
       "      <th>3</th>\n",
       "      <td>you are very helpful</td>\n",
       "      <td>1.0</td>\n",
       "      <td>0.0</td>\n",
       "    </tr>\n",
       "    <tr>\n",
       "      <th>4</th>\n",
       "      <td>I have 13 in the centre area of town. The emmanuel college is nice and it is free.</td>\n",
       "      <td>0.0</td>\n",
       "      <td>1.0</td>\n",
       "    </tr>\n",
       "  </tbody>\n",
       "</table>\n",
       "</div>"
      ],
      "text/plain": [
       "                                                                                          comment_text  \\\n",
       "0                                                                                            wanna hug   \n",
       "1  Yes I have one Spanish restaurant matching your price range and criteria. Would you like their n...   \n",
       "2                          Okay. Can you give me a time that you'd prefer to leave after or arrive by?   \n",
       "3                                                                                 you are very helpful   \n",
       "4                   I have 13 in the centre area of town. The emmanuel college is nice and it is free.   \n",
       "\n",
       "   general  request  \n",
       "0      1.0      0.0  \n",
       "1      0.0      1.0  \n",
       "2      0.0      1.0  \n",
       "3      1.0      0.0  \n",
       "4      0.0      1.0  "
      ]
     },
     "execution_count": 16,
     "metadata": {},
     "output_type": "execute_result"
    }
   ],
   "source": [
    "df.head()"
   ]
  },
  {
   "cell_type": "code",
   "execution_count": 17,
   "metadata": {
    "colab": {
     "base_uri": "https://localhost:8080/",
     "height": 411
    },
    "id": "6v7DW58wrm-w",
    "outputId": "a309541a-401b-435f-cf05-5059bb9f3f0a"
   },
   "outputs": [
    {
     "data": {
      "text/plain": [
       "((2798, 3), (148, 3))"
      ]
     },
     "execution_count": 17,
     "metadata": {},
     "output_type": "execute_result"
    }
   ],
   "source": [
    "train_df, val_df = train_test_split(df, test_size=0.05)\n",
    "train_df.shape, val_df.shape "
   ]
  },
  {
   "cell_type": "code",
   "execution_count": 18,
   "metadata": {
    "colab": {
     "base_uri": "https://localhost:8080/",
     "height": 488
    },
    "id": "qz9HXNwL7_1b",
    "outputId": "537299fe-e048-4586-ada9-fa2bd93c13e0"
   },
   "outputs": [
    {
     "data": {
      "image/png": "[encoded data removed]",
      "text/plain": [
       "<Figure size 432x288 with 1 Axes>"
      ]
     },
     "metadata": {
      "needs_background": "light"
     },
     "output_type": "display_data"
    }
   ],
   "source": [
    "# Distribution\n",
    "LABEL_COLUMNS = df.columns.tolist()[1:]\n",
    "df[LABEL_COLUMNS].sum().sort_values().plot(kind=\"barh\");"
   ]
  },
  {
   "cell_type": "markdown",
   "metadata": {
    "id": "EwBpI_G0FjwO"
   },
   "source": [
    "### Tokenization\n"
   ]
  },
  {
   "cell_type": "code",
   "execution_count": 19,
   "metadata": {
    "colab": {
     "base_uri": "https://localhost:8080/",
     "height": 145,
     "referenced_widgets": [
      "bae75a38c0844a80a095dbf8251edafa",
      "2bb01146b6c543a0823a00b1f6b4c8e8",
      "bb4d7814bb764a83b0de106f0209c4e0",
      "b86b336ebc3e4135842a3da37032e593",
      "b76454f14c0445c5bcdf7cfc00e4c867",
      "1027fd45c28e4583a6abb9e54f44d5d6",
      "6d49b0ac9e58454bb759595ca6f564f9",
      "c60238a9b25d412fb5ab6157dea30784",
      "57d60dd384df471a91366477441ae590",
      "f508fa46af4e422591519930259fa814",
      "a8a4c228ff9642ab8dc341d0591cb774",
      "82f719c1056a4ae5a0470173f55462ab",
      "a1c50141b693440f9a6d4c862f64e28f",
      "1f2ecff250ff4eb9b521070c3e94d77f",
      "7e58d8791d4649c0a981ce83e45ba280",
      "3c7b115aaf534dfc8cc839c2d2ce1e3e",
      "22ab963400b3406fb1d5882bf67ab5ce",
      "ca594d36057d4ff7b60fb8a421a87ee1",
      "ddff2f88955941c8879352e0eca88663",
      "77fa77253732475bb5916b91f808c229",
      "2e0bef27dc3f4de3bf3e0be60add3cd0",
      "c703129ff2cb4c87afc356ddb2524012",
      "6ec8a85d5ea04f48a94c575d2de70724",
      "5c2214b8589d45e3b805a9edf5f0271a",
      "64780db86c7f4ff793201f783815ab28",
      "adc7566d51d04a8fad6b78ea5133ec33",
      "4d221ea7a15d49049ca0c7794c9127f1",
      "ec3e20f5f8b0463bb81888f8c1a68722",
      "6075615517824b8385af62d2005d62e4",
      "7642e80c7f6c4013ab5cf064123947bf",
      "65c89aeea64244eba0a91c66f73c2dc8",
      "19a400d030ca4f9e8b2499c79c433311",
      "8a21ac46ef2945f8815abd37aab928b3",
      "4010098faf7e448896d24e20fc59ed07",
      "8605a60439534c7088ca22486d15157d",
      "caa96ee8982d4c5f934121593d0fbf57",
      "f321b0e7abbd4879bebc2fd9e39e52eb",
      "160a99b573c74bec884604ca508e7560",
      "f77347c4bb2f409eaea8884b86acc21c",
      "577d76a926e74834bfe73d9656346ffa",
      "8a12a548f3ac4a4ba418d126e98e7b21",
      "598706944086406e9297e01548a1d538",
      "edae0902c3424695842f11d98afec0f8",
      "cdf7492c91c043999e0809fcaee0c715"
     ]
    },
    "id": "fU8CYzKonYft",
    "outputId": "be38db6f-e897-4df9-edbf-f7afb95ee6b7"
   },
   "outputs": [],
   "source": [
    "tokenizer = BertTokenizer.from_pretrained(BERT_MODEL_NAME)"
   ]
  },
  {
   "cell_type": "code",
   "execution_count": 20,
   "metadata": {
    "colab": {
     "base_uri": "https://localhost:8080/"
    },
    "id": "3kDTQ5_6RnkI",
    "outputId": "ec227476-ab28-4ae5-8375-dcf8a621e6be"
   },
   "outputs": [
    {
     "name": "stdout",
     "output_type": "stream",
     "text": [
      "you are good\n",
      "\n",
      "{'general': 1.0, 'request': 0.0}\n"
     ]
    }
   ],
   "source": [
    "sample_row = train_df.iloc[15]\n",
    "sample_comment = sample_row.comment_text\n",
    "sample_labels = sample_row[LABEL_COLUMNS]\n",
    "\n",
    "print(sample_comment)\n",
    "print()\n",
    "print(sample_labels.to_dict())"
   ]
  },
  {
   "cell_type": "code",
   "execution_count": 21,
   "metadata": {
    "colab": {
     "base_uri": "https://localhost:8080/"
    },
    "id": "DjLOQUgzUexM",
    "outputId": "b57a89fb-58b3-480e-dc6d-1979ed11a0ad"
   },
   "outputs": [],
   "source": [
    "encoding = tokenizer.encode_plus(\n",
    "  sample_comment,\n",
    "  add_special_tokens=True,\n",
    "  max_length=300,\n",
    "  return_token_type_ids=False,\n",
    "  padding=\"max_length\",\n",
    "  return_attention_mask=True,\n",
    "  return_tensors='pt',\n",
    ")"
   ]
  },
  {
   "cell_type": "code",
   "execution_count": 22,
   "metadata": {
    "colab": {
     "base_uri": "https://localhost:8080/"
    },
    "id": "t2Qoj-RJU_KR",
    "outputId": "9c78f5e1-1542-4fba-b961-2f74e671a9c6"
   },
   "outputs": [
    {
     "name": "stdout",
     "output_type": "stream",
     "text": [
      "torch.Size([1, 300]) torch.Size([1, 300])\n"
     ]
    }
   ],
   "source": [
    "print(encoding[\"input_ids\"].shape, encoding[\"attention_mask\"].shape)"
   ]
  },
  {
   "cell_type": "code",
   "execution_count": 23,
   "metadata": {
    "colab": {
     "base_uri": "https://localhost:8080/"
    },
    "id": "iIO3LTJ1VK4S",
    "outputId": "9677e35f-e511-4b0d-f31d-cc7ff731f894"
   },
   "outputs": [
    {
     "name": "stdout",
     "output_type": "stream",
     "text": [
      "tensor([ 101, 1128, 1132, 1363,  102,    0,    0,    0,    0,    0,    0,    0,\n",
      "           0,    0,    0,    0,    0,    0,    0,    0,    0,    0,    0,    0,\n",
      "           0,    0,    0,    0,    0,    0,    0,    0,    0,    0,    0,    0,\n",
      "           0,    0,    0,    0,    0,    0,    0,    0,    0,    0,    0,    0,\n",
      "           0,    0])\n",
      "tensor([1, 1, 1, 1, 1, 0, 0, 0, 0, 0, 0, 0, 0, 0, 0, 0, 0, 0, 0, 0, 0, 0, 0, 0,\n",
      "        0, 0, 0, 0, 0, 0, 0, 0, 0, 0, 0, 0, 0, 0, 0, 0, 0, 0, 0, 0, 0, 0, 0, 0,\n",
      "        0, 0])\n"
     ]
    }
   ],
   "source": [
    "print(encoding[\"input_ids\"].squeeze()[:50])\n",
    "print(encoding[\"attention_mask\"].squeeze()[:50])"
   ]
  },
  {
   "cell_type": "code",
   "execution_count": 24,
   "metadata": {
    "colab": {
     "base_uri": "https://localhost:8080/"
    },
    "id": "ib74R7MVsjmS",
    "outputId": "418ee042-86e8-4637-9812-dc0d03350d43"
   },
   "outputs": [
    {
     "name": "stdout",
     "output_type": "stream",
     "text": [
      "['[CLS]', 'you', 'are', 'good', '[SEP]', '[PAD]', '[PAD]', '[PAD]', '[PAD]', '[PAD]', '[PAD]', '[PAD]', '[PAD]', '[PAD]', '[PAD]', '[PAD]', '[PAD]', '[PAD]', '[PAD]', '[PAD]']\n"
     ]
    }
   ],
   "source": [
    "print(tokenizer.convert_ids_to_tokens(encoding[\"input_ids\"].squeeze())[:20])"
   ]
  },
  {
   "cell_type": "code",
   "execution_count": 25,
   "metadata": {
    "id": "ymXBT82pIlpy"
   },
   "outputs": [
    {
     "name": "stdout",
     "output_type": "stream",
     "text": [
      "67\n"
     ]
    },
    {
     "data": {
      "image/png": "[encoded data removed]",
      "text/plain": [
       "<Figure size 432x288 with 1 Axes>"
      ]
     },
     "metadata": {
      "needs_background": "light"
     },
     "output_type": "display_data"
    }
   ],
   "source": [
    "# Distribution of the tokenized sentences\n",
    "token_counts = []\n",
    "\n",
    "for _, row in train_df.iterrows():\n",
    "  token_count = len(tokenizer.encode(\n",
    "    row[\"comment_text\"], \n",
    "    max_length=512, \n",
    "    truncation=True\n",
    "  ))\n",
    "  token_counts.append(token_count)\n",
    "\n",
    "sns.histplot(token_counts)\n",
    "print(max(token_counts))\n",
    "plt.xlim([0, 100]);"
   ]
  },
  {
   "cell_type": "markdown",
   "metadata": {
    "id": "cgXNPSXU77oc"
   },
   "source": [
    "### Dataset"
   ]
  },
  {
   "cell_type": "code",
   "execution_count": 26,
   "metadata": {
    "id": "CQ1YdjRlYAxF"
   },
   "outputs": [],
   "source": [
    "class Generic_Dataset(Dataset):\n",
    "\n",
    "  def __init__(\n",
    "    self, \n",
    "    data: pd.DataFrame, \n",
    "    tokenizer: BertTokenizer, \n",
    "    max_token_len: int = 128\n",
    "  ):\n",
    "    self.tokenizer = tokenizer\n",
    "    self.data = data\n",
    "    self.max_token_len = max_token_len\n",
    "    \n",
    "  def __len__(self):\n",
    "    return len(self.data)\n",
    "\n",
    "  def __getitem__(self, index: int):\n",
    "    data_row = self.data.iloc[index]\n",
    "\n",
    "    comment_text = data_row.comment_text\n",
    "    labels = data_row[LABEL_COLUMNS]\n",
    "\n",
    "    encoding = self.tokenizer.encode_plus(\n",
    "      comment_text,\n",
    "      add_special_tokens=True,\n",
    "      max_length=self.max_token_len,\n",
    "      return_token_type_ids=False,\n",
    "      padding=\"max_length\",\n",
    "      truncation=True,\n",
    "      return_attention_mask=True,\n",
    "      return_tensors='pt',\n",
    "    )\n",
    "\n",
    "    return dict(\n",
    "      comment_text=comment_text,\n",
    "      input_ids=encoding[\"input_ids\"].flatten(),\n",
    "      attention_mask=encoding[\"attention_mask\"].flatten(),\n",
    "      labels=torch.FloatTensor(labels)\n",
    "    )"
   ]
  },
  {
   "cell_type": "code",
   "execution_count": 27,
   "metadata": {
    "colab": {
     "base_uri": "https://localhost:8080/"
    },
    "id": "M72dsvC-CDZD",
    "outputId": "ea113ee6-b5c4-4ac1-970f-b8a1281f3cf1"
   },
   "outputs": [
    {
     "data": {
      "text/plain": [
       "dict_keys(['comment_text', 'input_ids', 'attention_mask', 'labels'])"
      ]
     },
     "execution_count": 27,
     "metadata": {},
     "output_type": "execute_result"
    }
   ],
   "source": [
    "train_dataset = Generic_Dataset(\n",
    "  train_df,\n",
    "  tokenizer,\n",
    "  max_token_len=MAX_TOKEN_COUNT\n",
    ")\n",
    "\n",
    "sample_item = train_dataset[0]\n",
    "sample_item.keys()"
   ]
  },
  {
   "cell_type": "code",
   "execution_count": 28,
   "metadata": {
    "colab": {
     "base_uri": "https://localhost:8080/",
     "height": 35
    },
    "id": "R6L8exQSiYM-",
    "outputId": "2cd53e99-0974-4a3f-f39a-5b2582cd23a1"
   },
   "outputs": [
    {
     "name": "stdout",
     "output_type": "stream",
     "text": [
      "haha very funny\n",
      "tensor([1., 0.])\n",
      "torch.Size([300])\n"
     ]
    }
   ],
   "source": [
    "print(sample_item[\"comment_text\"])\n",
    "print(sample_item[\"labels\"])\n",
    "print(sample_item[\"input_ids\"].shape)"
   ]
  },
  {
   "cell_type": "code",
   "execution_count": 29,
   "metadata": {
    "id": "_qLPXLkv-cwH"
   },
   "outputs": [],
   "source": [
    "class Generic_DataModule(pl.LightningDataModule):\n",
    "\n",
    "  def __init__(self, train_df, test_df, tokenizer, batch_size=8, max_token_len=128):\n",
    "    super().__init__()\n",
    "    self.batch_size = batch_size\n",
    "    self.train_df = train_df\n",
    "    self.test_df = test_df\n",
    "    self.tokenizer = tokenizer\n",
    "    self.max_token_len = max_token_len\n",
    "\n",
    "  def setup(self, stage=None):\n",
    "    self.train_dataset = Generic_Dataset(\n",
    "      self.train_df,\n",
    "      self.tokenizer,\n",
    "      self.max_token_len\n",
    "    )\n",
    "\n",
    "    self.test_dataset = Generic_Dataset(\n",
    "      self.test_df,\n",
    "      self.tokenizer,\n",
    "      self.max_token_len\n",
    "    )\n",
    "\n",
    "  def train_dataloader(self):\n",
    "    return DataLoader(\n",
    "      self.train_dataset,\n",
    "      batch_size=self.batch_size,\n",
    "      shuffle=True,\n",
    "      num_workers=2\n",
    "    )\n",
    "\n",
    "  def val_dataloader(self):\n",
    "    return DataLoader(\n",
    "      self.test_dataset,\n",
    "      batch_size=self.batch_size,\n",
    "      num_workers=2\n",
    "    )\n",
    "\n",
    "  def test_dataloader(self):\n",
    "    return DataLoader(\n",
    "      self.test_dataset,\n",
    "      batch_size=self.batch_size,\n",
    "      num_workers=2\n",
    "    )"
   ]
  },
  {
   "cell_type": "code",
   "execution_count": 30,
   "metadata": {
    "id": "ntTOVFoM3Nn-"
   },
   "outputs": [],
   "source": [
    "data_module = Generic_DataModule(\n",
    "  train_df,\n",
    "  val_df,\n",
    "  tokenizer,\n",
    "  batch_size=BATCH_SIZE,\n",
    "  max_token_len=MAX_TOKEN_COUNT\n",
    ")"
   ]
  },
  {
   "cell_type": "markdown",
   "metadata": {
    "id": "rSQsvaBgoM7F"
   },
   "source": [
    "## Model\n",
    "\n",
    "Binary Cross Entropy is used to measure the error for each label since we are doing binary classification for each label."
   ]
  },
  {
   "cell_type": "code",
   "execution_count": 31,
   "metadata": {
    "id": "USKhIewsG3-k"
   },
   "outputs": [],
   "source": [
    "class Tagger(pl.LightningModule):\n",
    "\n",
    "  def __init__(self, n_classes: int, n_training_steps=None, n_warmup_steps=None):\n",
    "    super().__init__()\n",
    "    self.bert = BertModel.from_pretrained(BERT_MODEL_NAME, return_dict=True)\n",
    "    self.classifier = nn.Linear(self.bert.config.hidden_size, n_classes)\n",
    "    self.n_training_steps = n_training_steps\n",
    "    self.n_warmup_steps = n_warmup_steps\n",
    "    self.criterion = nn.BCELoss()\n",
    "\n",
    "  def forward(self, input_ids, attention_mask, labels=None):\n",
    "    output = self.bert(input_ids, attention_mask=attention_mask)\n",
    "    output = self.classifier(output.pooler_output)\n",
    "    output = torch.sigmoid(output)    \n",
    "    loss = 0\n",
    "    if labels is not None:\n",
    "        loss = self.criterion(output, labels)\n",
    "    return loss, output\n",
    "\n",
    "  def training_step(self, batch, batch_idx):\n",
    "    input_ids = batch[\"input_ids\"]\n",
    "    attention_mask = batch[\"attention_mask\"]\n",
    "    labels = batch[\"labels\"]\n",
    "    loss, outputs = self(input_ids, attention_mask, labels)\n",
    "    self.log(\"train_loss\", loss, prog_bar=True, logger=True)\n",
    "    return {\"loss\": loss, \"predictions\": outputs, \"labels\": labels}\n",
    "\n",
    "  def validation_step(self, batch, batch_idx):\n",
    "    input_ids = batch[\"input_ids\"]\n",
    "    attention_mask = batch[\"attention_mask\"]\n",
    "    labels = batch[\"labels\"]\n",
    "    loss, outputs = self(input_ids, attention_mask, labels)\n",
    "    self.log(\"val_loss\", loss, prog_bar=True, logger=True)\n",
    "    return loss\n",
    "\n",
    "  def test_step(self, batch, batch_idx):\n",
    "    input_ids = batch[\"input_ids\"]\n",
    "    attention_mask = batch[\"attention_mask\"]\n",
    "    labels = batch[\"labels\"]\n",
    "    loss, outputs = self(input_ids, attention_mask, labels)\n",
    "    self.log(\"test_loss\", loss, prog_bar=True, logger=True)\n",
    "    return loss\n",
    "\n",
    "  def training_epoch_end(self, outputs):\n",
    "    \n",
    "    labels = []\n",
    "    predictions = []\n",
    "    for output in outputs:\n",
    "        for out_labels in output[\"labels\"].detach().cpu():\n",
    "            labels.append(out_labels)\n",
    "        for out_predictions in output[\"predictions\"].detach().cpu():\n",
    "            predictions.append(out_predictions)\n",
    "\n",
    "    labels = torch.stack(labels).int()\n",
    "    predictions = torch.stack(predictions)\n",
    "\n",
    "    for i, name in enumerate(LABEL_COLUMNS):\n",
    "        class_roc_auc = auroc(predictions[:, i], labels[:, i])\n",
    "        self.logger.experiment.add_scalar(f\"{name}_roc_auc/Train\", class_roc_auc, self.current_epoch)\n",
    "\n",
    "  def configure_optimizers(self):\n",
    "    optimizer = AdamW(self.parameters(), lr=2e-5)\n",
    "    scheduler = get_linear_schedule_with_warmup(\n",
    "      optimizer,\n",
    "      num_warmup_steps=self.n_warmup_steps,\n",
    "      num_training_steps=self.n_training_steps\n",
    "    )\n",
    "\n",
    "    return dict(\n",
    "      optimizer=optimizer,\n",
    "      lr_scheduler=dict(\n",
    "        scheduler=scheduler,\n",
    "        interval='step'\n",
    "      )\n",
    "  )"
   ]
  },
  {
   "cell_type": "code",
   "execution_count": 32,
   "metadata": {
    "id": "r2ywIz841yni"
   },
   "outputs": [
    {
     "data": {
      "text/plain": [
       "(186, 932)"
      ]
     },
     "execution_count": 32,
     "metadata": {},
     "output_type": "execute_result"
    }
   ],
   "source": [
    "steps_per_epoch=len(train_df) // BATCH_SIZE\n",
    "total_training_steps = steps_per_epoch * N_EPOCHS\n",
    "\n",
    "warmup_steps = total_training_steps // 5\n",
    "warmup_steps, total_training_steps"
   ]
  },
  {
   "cell_type": "code",
   "execution_count": 33,
   "metadata": {
    "colab": {
     "base_uri": "https://localhost:8080/"
    },
    "id": "JObpLXJaZVPh",
    "outputId": "2be2a43d-320f-4c12-96ce-9321de4be8b8"
   },
   "outputs": [],
   "source": [
    "# Create an instance of the model\n",
    "model = Tagger(\n",
    "  n_classes=len(LABEL_COLUMNS),\n",
    "  n_warmup_steps=warmup_steps,\n",
    "  n_training_steps=total_training_steps \n",
    ")"
   ]
  },
  {
   "cell_type": "markdown",
   "metadata": {
    "id": "hFvqzK4Ua-16"
   },
   "source": [
    "## Training"
   ]
  },
  {
   "cell_type": "code",
   "execution_count": 34,
   "metadata": {
    "id": "l6YoDvFZeHRs"
   },
   "outputs": [
    {
     "data": {
      "text/plain": [
       "Reusing TensorBoard on port 6007 (pid 32149), started 0:10:06 ago. (Use '!kill 32149' to kill it.)"
      ]
     },
     "metadata": {},
     "output_type": "display_data"
    },
    {
     "data": {
      "text/html": [
       "\n",
       "      <iframe id=\"tensorboard-frame-44867db30d67b366\" width=\"100%\" height=\"800\" frameborder=\"0\">\n",
       "      </iframe>\n",
       "      <script>\n",
       "        (function() {\n",
       "          const frame = document.getElementById(\"tensorboard-frame-44867db30d67b366\");\n",
       "          const url = new URL(\"/\", window.location);\n",
       "          const port = 6007;\n",
       "          if (port) {\n",
       "            url.port = port;\n",
       "          }\n",
       "          frame.src = url;\n",
       "        })();\n",
       "      </script>\n",
       "    "
      ],
      "text/plain": [
       "<IPython.core.display.HTML object>"
      ]
     },
     "metadata": {},
     "output_type": "display_data"
    }
   ],
   "source": [
    "!rm -rf logging_path/\n",
    "!rm -rf checkpoint_path/\n",
    "\n",
    "%load_ext tensorboard\n",
    "%tensorboard --logdir ./lightning_logs_banking_77"
   ]
  },
  {
   "cell_type": "code",
   "execution_count": 35,
   "metadata": {
    "id": "OX_FijnjVJ9u"
   },
   "outputs": [
    {
     "name": "stderr",
     "output_type": "stream",
     "text": [
      "/ssd003/home/elau/Conv_BERT/BERT_MLM_env/lib/python3.6/site-packages/pytorch_lightning/utilities/distributed.py:68: UserWarning: Checkpoint directory checkpoints_temp exists and is not empty.\n",
      "  warnings.warn(*args, **kwargs)\n"
     ]
    }
   ],
   "source": [
    "checkpoint_callback = ModelCheckpoint(\n",
    "  dirpath=checkpoint_path,\n",
    "  filename=\"best-checkpoint\",\n",
    "  save_top_k=1,\n",
    "  verbose=True,\n",
    "  monitor=\"val_loss\",\n",
    "  mode=\"min\"\n",
    ")"
   ]
  },
  {
   "cell_type": "code",
   "execution_count": 36,
   "metadata": {
    "id": "adp5RmroVQtV"
   },
   "outputs": [],
   "source": [
    "logger = TensorBoardLogger(logging_path, name=\"classification\")"
   ]
  },
  {
   "cell_type": "code",
   "execution_count": 37,
   "metadata": {
    "id": "nvVvlw_EWLxb"
   },
   "outputs": [],
   "source": [
    "early_stopping_callback = EarlyStopping(monitor='val_loss', patience=2)"
   ]
  },
  {
   "cell_type": "code",
   "execution_count": 38,
   "metadata": {
    "colab": {
     "base_uri": "https://localhost:8080/"
    },
    "id": "lP7S4ulb3guC",
    "outputId": "047597aa-0ac3-420c-dee9-6fcab162455b"
   },
   "outputs": [
    {
     "name": "stderr",
     "output_type": "stream",
     "text": [
      "GPU available: True, used: True\n",
      "TPU available: False, using: 0 TPU cores\n"
     ]
    }
   ],
   "source": [
    "# Training\n",
    "trainer = pl.Trainer(\n",
    "  logger=logger,\n",
    "  checkpoint_callback=checkpoint_callback,\n",
    "  callbacks=[early_stopping_callback],\n",
    "  max_epochs=N_EPOCHS,\n",
    "  gpus=1,\n",
    "  progress_bar_refresh_rate=30\n",
    ")"
   ]
  },
  {
   "cell_type": "code",
   "execution_count": 39,
   "metadata": {
    "colab": {
     "base_uri": "https://localhost:8080/"
    },
    "id": "aUVqTCwn3rrQ",
    "outputId": "47613512-e1cd-4b0e-e4ef-1327210a1dbd"
   },
   "outputs": [
    {
     "name": "stderr",
     "output_type": "stream",
     "text": [
      "LOCAL_RANK: 0 - CUDA_VISIBLE_DEVICES: [0]\n",
      "Set SLURM handle signals.\n",
      "\n",
      "  | Name       | Type      | Params\n",
      "-----------------------------------------\n",
      "0 | bert       | BertModel | 108 M \n",
      "1 | classifier | Linear    | 1.5 K \n",
      "2 | criterion  | BCELoss   | 0     \n",
      "-----------------------------------------\n",
      "108 M     Trainable params\n",
      "0         Non-trainable params\n",
      "108 M     Total params\n",
      "433.247   Total estimated model params size (MB)\n",
      "/ssd003/home/elau/Conv_BERT/BERT_MLM_env/lib/python3.6/site-packages/pytorch_lightning/utilities/distributed.py:68: UserWarning: The dataloader, val dataloader 0, does not have many workers which may be a bottleneck. Consider increasing the value of the `num_workers` argument` (try 32 which is the number of cpus on this machine) in the `DataLoader` init to improve performance.\n",
      "  warnings.warn(*args, **kwargs)\n"
     ]
    },
    {
     "data": {
      "application/vnd.jupyter.widget-view+json": {
       "model_id": "f4993aaa614b43a39a2d5b21e57c13fb",
       "version_major": 2,
       "version_minor": 0
      },
      "text/plain": [
       "Validation sanity check: 0it [00:00, ?it/s]"
      ]
     },
     "metadata": {},
     "output_type": "display_data"
    },
    {
     "name": "stderr",
     "output_type": "stream",
     "text": [
      "/ssd003/home/elau/Conv_BERT/BERT_MLM_env/lib/python3.6/site-packages/pytorch_lightning/utilities/distributed.py:68: UserWarning: The dataloader, train dataloader, does not have many workers which may be a bottleneck. Consider increasing the value of the `num_workers` argument` (try 32 which is the number of cpus on this machine) in the `DataLoader` init to improve performance.\n",
      "  warnings.warn(*args, **kwargs)\n"
     ]
    },
    {
     "data": {
      "application/vnd.jupyter.widget-view+json": {
       "model_id": "7bbc5c4458a64d94b3105e9177b8f15f",
       "version_major": 2,
       "version_minor": 0
      },
      "text/plain": [
       "Training: 0it [00:00, ?it/s]"
      ]
     },
     "metadata": {},
     "output_type": "display_data"
    },
    {
     "name": "stderr",
     "output_type": "stream",
     "text": [
      "/ssd003/home/elau/Conv_BERT/BERT_MLM_env/lib/python3.6/site-packages/pytorch_lightning/utilities/distributed.py:68: UserWarning: `pos_label` automatically set 1.\n",
      "  warnings.warn(*args, **kwargs)\n"
     ]
    },
    {
     "data": {
      "application/vnd.jupyter.widget-view+json": {
       "model_id": "",
       "version_major": 2,
       "version_minor": 0
      },
      "text/plain": [
       "Validating: 0it [00:00, ?it/s]"
      ]
     },
     "metadata": {},
     "output_type": "display_data"
    },
    {
     "name": "stderr",
     "output_type": "stream",
     "text": [
      "Epoch 0, global step 466: val_loss reached 0.00224 (best 0.00224), saving model to \"/ssd003/home/elau/Conv_BERT/ConversationalAI/intentIdentification/generalClassification/checkpoints_temp/best-checkpoint-v2.ckpt\" as top 1\n"
     ]
    },
    {
     "data": {
      "application/vnd.jupyter.widget-view+json": {
       "model_id": "",
       "version_major": 2,
       "version_minor": 0
      },
      "text/plain": [
       "Validating: 0it [00:00, ?it/s]"
      ]
     },
     "metadata": {},
     "output_type": "display_data"
    },
    {
     "name": "stderr",
     "output_type": "stream",
     "text": [
      "Epoch 1, global step 933: val_loss reached 0.00143 (best 0.00143), saving model to \"/ssd003/home/elau/Conv_BERT/ConversationalAI/intentIdentification/generalClassification/checkpoints_temp/best-checkpoint-v2.ckpt\" as top 1\n"
     ]
    },
    {
     "data": {
      "text/plain": [
       "1"
      ]
     },
     "execution_count": 39,
     "metadata": {},
     "output_type": "execute_result"
    }
   ],
   "source": [
    "trainer.fit(model, data_module)"
   ]
  },
  {
   "cell_type": "code",
   "execution_count": 40,
   "metadata": {
    "id": "qAYbKDu4UR6M"
   },
   "outputs": [
    {
     "name": "stderr",
     "output_type": "stream",
     "text": [
      "LOCAL_RANK: 0 - CUDA_VISIBLE_DEVICES: [0]\n",
      "/ssd003/home/elau/Conv_BERT/BERT_MLM_env/lib/python3.6/site-packages/pytorch_lightning/utilities/distributed.py:68: UserWarning: The dataloader, test dataloader 0, does not have many workers which may be a bottleneck. Consider increasing the value of the `num_workers` argument` (try 32 which is the number of cpus on this machine) in the `DataLoader` init to improve performance.\n",
      "  warnings.warn(*args, **kwargs)\n"
     ]
    },
    {
     "data": {
      "application/vnd.jupyter.widget-view+json": {
       "model_id": "b510aad723474874807f9af2f62b83f3",
       "version_major": 2,
       "version_minor": 0
      },
      "text/plain": [
       "Testing: 0it [00:00, ?it/s]"
      ]
     },
     "metadata": {},
     "output_type": "display_data"
    },
    {
     "name": "stdout",
     "output_type": "stream",
     "text": [
      "--------------------------------------------------------------------------------\n",
      "DATALOADER:0 TEST RESULTS\n",
      "{'test_loss': 0.0014333755243569613}\n",
      "--------------------------------------------------------------------------------\n"
     ]
    },
    {
     "data": {
      "text/plain": [
       "[{'test_loss': 0.0014333755243569613}]"
      ]
     },
     "execution_count": 40,
     "metadata": {},
     "output_type": "execute_result"
    }
   ],
   "source": [
    "# Check validation loss\n",
    "trainer.test()"
   ]
  },
  {
   "cell_type": "markdown",
   "metadata": {
    "id": "KKrlcyK_eX3s"
   },
   "source": [
    "## Predictions"
   ]
  },
  {
   "cell_type": "code",
   "execution_count": 41,
   "metadata": {
    "id": "tGCXjnMPHlcp"
   },
   "outputs": [],
   "source": [
    "trained_model = Tagger.load_from_checkpoint(\n",
    "  trainer.checkpoint_callback.best_model_path,\n",
    "  n_classes=len(LABEL_COLUMNS)\n",
    ")\n",
    "trained_model.eval()\n",
    "trained_model.freeze()"
   ]
  }
 ],
 "metadata": {
  "accelerator": "GPU",
  "colab": {
   "collapsed_sections": [],
   "name": "Copy of 11.multi-label-text-classification-with-bert.ipynb",
   "provenance": [],
   "toc_visible": true
  },
  "kernelspec": {
   "display_name": "Python 3",
   "language": "python",
   "name": "python3"
  },
  "language_info": {
   "codemirror_mode": {
    "name": "ipython",
    "version": 3
   },
   "file_extension": ".py",
   "mimetype": "text/x-python",
   "name": "python",
   "nbconvert_exporter": "python",
   "pygments_lexer": "ipython3",
   "version": "3.6.9"
  },
  "widgets": {
   "application/vnd.jupyter.widget-state+json": {
    "0943b4c2957341efb602c86e2984ee79": {
     "model_module": "@jupyter-widgets/controls",
     "model_module_version": "1.5.0",
     "model_name": "DescriptionStyleModel",
     "state": {
      "_model_module": "@jupyter-widgets/controls",
      "_model_module_version": "1.5.0",
      "_model_name": "DescriptionStyleModel",
      "_view_count": null,
      "_view_module": "@jupyter-widgets/base",
      "_view_module_version": "1.2.0",
      "_view_name": "StyleView",
      "description_width": ""
     }
    },
    "0c77fdc88458455b9a40214ce24384cb": {
     "model_module": "@jupyter-widgets/base",
     "model_module_version": "1.2.0",
     "model_name": "LayoutModel",
     "state": {
      "_model_module": "@jupyter-widgets/base",
      "_model_module_version": "1.2.0",
      "_model_name": "LayoutModel",
      "_view_count": null,
      "_view_module": "@jupyter-widgets/base",
      "_view_module_version": "1.2.0",
      "_view_name": "LayoutView",
      "align_content": null,
      "align_items": null,
      "align_self": null,
      "border": null,
      "bottom": null,
      "display": null,
      "flex": null,
      "flex_flow": null,
      "grid_area": null,
      "grid_auto_columns": null,
      "grid_auto_flow": null,
      "grid_auto_rows": null,
      "grid_column": null,
      "grid_gap": null,
      "grid_row": null,
      "grid_template_areas": null,
      "grid_template_columns": null,
      "grid_template_rows": null,
      "height": null,
      "justify_content": null,
      "justify_items": null,
      "left": null,
      "margin": null,
      "max_height": null,
      "max_width": null,
      "min_height": null,
      "min_width": null,
      "object_fit": null,
      "object_position": null,
      "order": null,
      "overflow": null,
      "overflow_x": null,
      "overflow_y": null,
      "padding": null,
      "right": null,
      "top": null,
      "visibility": null,
      "width": null
     }
    },
    "1027fd45c28e4583a6abb9e54f44d5d6": {
     "model_module": "@jupyter-widgets/controls",
     "model_module_version": "1.5.0",
     "model_name": "DescriptionStyleModel",
     "state": {
      "_model_module": "@jupyter-widgets/controls",
      "_model_module_version": "1.5.0",
      "_model_name": "DescriptionStyleModel",
      "_view_count": null,
      "_view_module": "@jupyter-widgets/base",
      "_view_module_version": "1.2.0",
      "_view_name": "StyleView",
      "description_width": ""
     }
    },
    "160a99b573c74bec884604ca508e7560": {
     "model_module": "@jupyter-widgets/controls",
     "model_module_version": "1.5.0",
     "model_name": "HTMLModel",
     "state": {
      "_dom_classes": [],
      "_model_module": "@jupyter-widgets/controls",
      "_model_module_version": "1.5.0",
      "_model_name": "HTMLModel",
      "_view_count": null,
      "_view_module": "@jupyter-widgets/controls",
      "_view_module_version": "1.5.0",
      "_view_name": "HTMLView",
      "description": "",
      "description_tooltip": null,
      "layout": "IPY_MODEL_cdf7492c91c043999e0809fcaee0c715",
      "placeholder": "​",
      "style": "IPY_MODEL_edae0902c3424695842f11d98afec0f8",
      "value": " 570/570 [00:00&lt;00:00, 10.3kB/s]"
     }
    },
    "19a400d030ca4f9e8b2499c79c433311": {
     "model_module": "@jupyter-widgets/controls",
     "model_module_version": "1.5.0",
     "model_name": "DescriptionStyleModel",
     "state": {
      "_model_module": "@jupyter-widgets/controls",
      "_model_module_version": "1.5.0",
      "_model_name": "DescriptionStyleModel",
      "_view_count": null,
      "_view_module": "@jupyter-widgets/base",
      "_view_module_version": "1.2.0",
      "_view_name": "StyleView",
      "description_width": ""
     }
    },
    "1f2ecff250ff4eb9b521070c3e94d77f": {
     "model_module": "@jupyter-widgets/controls",
     "model_module_version": "1.5.0",
     "model_name": "HTMLModel",
     "state": {
      "_dom_classes": [],
      "_model_module": "@jupyter-widgets/controls",
      "_model_module_version": "1.5.0",
      "_model_name": "HTMLModel",
      "_view_count": null,
      "_view_module": "@jupyter-widgets/controls",
      "_view_module_version": "1.5.0",
      "_view_name": "HTMLView",
      "description": "",
      "description_tooltip": null,
      "layout": "IPY_MODEL_ca594d36057d4ff7b60fb8a421a87ee1",
      "placeholder": "​",
      "style": "IPY_MODEL_22ab963400b3406fb1d5882bf67ab5ce",
      "value": "Downloading: 100%"
     }
    },
    "22ab963400b3406fb1d5882bf67ab5ce": {
     "model_module": "@jupyter-widgets/controls",
     "model_module_version": "1.5.0",
     "model_name": "DescriptionStyleModel",
     "state": {
      "_model_module": "@jupyter-widgets/controls",
      "_model_module_version": "1.5.0",
      "_model_name": "DescriptionStyleModel",
      "_view_count": null,
      "_view_module": "@jupyter-widgets/base",
      "_view_module_version": "1.2.0",
      "_view_name": "StyleView",
      "description_width": ""
     }
    },
    "2bb01146b6c543a0823a00b1f6b4c8e8": {
     "model_module": "@jupyter-widgets/base",
     "model_module_version": "1.2.0",
     "model_name": "LayoutModel",
     "state": {
      "_model_module": "@jupyter-widgets/base",
      "_model_module_version": "1.2.0",
      "_model_name": "LayoutModel",
      "_view_count": null,
      "_view_module": "@jupyter-widgets/base",
      "_view_module_version": "1.2.0",
      "_view_name": "LayoutView",
      "align_content": null,
      "align_items": null,
      "align_self": null,
      "border": null,
      "bottom": null,
      "display": null,
      "flex": null,
      "flex_flow": null,
      "grid_area": null,
      "grid_auto_columns": null,
      "grid_auto_flow": null,
      "grid_auto_rows": null,
      "grid_column": null,
      "grid_gap": null,
      "grid_row": null,
      "grid_template_areas": null,
      "grid_template_columns": null,
      "grid_template_rows": null,
      "height": null,
      "justify_content": null,
      "justify_items": null,
      "left": null,
      "margin": null,
      "max_height": null,
      "max_width": null,
      "min_height": null,
      "min_width": null,
      "object_fit": null,
      "object_position": null,
      "order": null,
      "overflow": null,
      "overflow_x": null,
      "overflow_y": null,
      "padding": null,
      "right": null,
      "top": null,
      "visibility": null,
      "width": null
     }
    },
    "2e0bef27dc3f4de3bf3e0be60add3cd0": {
     "model_module": "@jupyter-widgets/controls",
     "model_module_version": "1.5.0",
     "model_name": "DescriptionStyleModel",
     "state": {
      "_model_module": "@jupyter-widgets/controls",
      "_model_module_version": "1.5.0",
      "_model_name": "DescriptionStyleModel",
      "_view_count": null,
      "_view_module": "@jupyter-widgets/base",
      "_view_module_version": "1.2.0",
      "_view_name": "StyleView",
      "description_width": ""
     }
    },
    "32074f66d020456ca5d6534ca19a9a06": {
     "model_module": "@jupyter-widgets/base",
     "model_module_version": "1.2.0",
     "model_name": "LayoutModel",
     "state": {
      "_model_module": "@jupyter-widgets/base",
      "_model_module_version": "1.2.0",
      "_model_name": "LayoutModel",
      "_view_count": null,
      "_view_module": "@jupyter-widgets/base",
      "_view_module_version": "1.2.0",
      "_view_name": "LayoutView",
      "align_content": null,
      "align_items": null,
      "align_self": null,
      "border": null,
      "bottom": null,
      "display": null,
      "flex": null,
      "flex_flow": null,
      "grid_area": null,
      "grid_auto_columns": null,
      "grid_auto_flow": null,
      "grid_auto_rows": null,
      "grid_column": null,
      "grid_gap": null,
      "grid_row": null,
      "grid_template_areas": null,
      "grid_template_columns": null,
      "grid_template_rows": null,
      "height": null,
      "justify_content": null,
      "justify_items": null,
      "left": null,
      "margin": null,
      "max_height": null,
      "max_width": null,
      "min_height": null,
      "min_width": null,
      "object_fit": null,
      "object_position": null,
      "order": null,
      "overflow": null,
      "overflow_x": null,
      "overflow_y": null,
      "padding": null,
      "right": null,
      "top": null,
      "visibility": null,
      "width": null
     }
    },
    "3c7b115aaf534dfc8cc839c2d2ce1e3e": {
     "model_module": "@jupyter-widgets/controls",
     "model_module_version": "1.5.0",
     "model_name": "HTMLModel",
     "state": {
      "_dom_classes": [],
      "_model_module": "@jupyter-widgets/controls",
      "_model_module_version": "1.5.0",
      "_model_name": "HTMLModel",
      "_view_count": null,
      "_view_module": "@jupyter-widgets/controls",
      "_view_module_version": "1.5.0",
      "_view_name": "HTMLView",
      "description": "",
      "description_tooltip": null,
      "layout": "IPY_MODEL_c703129ff2cb4c87afc356ddb2524012",
      "placeholder": "​",
      "style": "IPY_MODEL_2e0bef27dc3f4de3bf3e0be60add3cd0",
      "value": " 436k/436k [00:00&lt;00:00, 536kB/s]"
     }
    },
    "4010098faf7e448896d24e20fc59ed07": {
     "model_module": "@jupyter-widgets/controls",
     "model_module_version": "1.5.0",
     "model_name": "HBoxModel",
     "state": {
      "_dom_classes": [],
      "_model_module": "@jupyter-widgets/controls",
      "_model_module_version": "1.5.0",
      "_model_name": "HBoxModel",
      "_view_count": null,
      "_view_module": "@jupyter-widgets/controls",
      "_view_module_version": "1.5.0",
      "_view_name": "HBoxView",
      "box_style": "",
      "children": [
       "IPY_MODEL_caa96ee8982d4c5f934121593d0fbf57",
       "IPY_MODEL_f321b0e7abbd4879bebc2fd9e39e52eb",
       "IPY_MODEL_160a99b573c74bec884604ca508e7560"
      ],
      "layout": "IPY_MODEL_8605a60439534c7088ca22486d15157d"
     }
    },
    "4212e369231d4383a89102aa57b2bd73": {
     "model_module": "@jupyter-widgets/controls",
     "model_module_version": "1.5.0",
     "model_name": "FloatProgressModel",
     "state": {
      "_dom_classes": [],
      "_model_module": "@jupyter-widgets/controls",
      "_model_module_version": "1.5.0",
      "_model_name": "FloatProgressModel",
      "_view_count": null,
      "_view_module": "@jupyter-widgets/controls",
      "_view_module_version": "1.5.0",
      "_view_name": "ProgressView",
      "bar_style": "success",
      "description": "",
      "description_tooltip": null,
      "layout": "IPY_MODEL_45737d96b5924d72b6fdc83f6d210a3d",
      "max": 435779157,
      "min": 0,
      "orientation": "horizontal",
      "style": "IPY_MODEL_77a88a70bc0044d4a94dccee943c8d83",
      "value": 435779157
     }
    },
    "45737d96b5924d72b6fdc83f6d210a3d": {
     "model_module": "@jupyter-widgets/base",
     "model_module_version": "1.2.0",
     "model_name": "LayoutModel",
     "state": {
      "_model_module": "@jupyter-widgets/base",
      "_model_module_version": "1.2.0",
      "_model_name": "LayoutModel",
      "_view_count": null,
      "_view_module": "@jupyter-widgets/base",
      "_view_module_version": "1.2.0",
      "_view_name": "LayoutView",
      "align_content": null,
      "align_items": null,
      "align_self": null,
      "border": null,
      "bottom": null,
      "display": null,
      "flex": null,
      "flex_flow": null,
      "grid_area": null,
      "grid_auto_columns": null,
      "grid_auto_flow": null,
      "grid_auto_rows": null,
      "grid_column": null,
      "grid_gap": null,
      "grid_row": null,
      "grid_template_areas": null,
      "grid_template_columns": null,
      "grid_template_rows": null,
      "height": null,
      "justify_content": null,
      "justify_items": null,
      "left": null,
      "margin": null,
      "max_height": null,
      "max_width": null,
      "min_height": null,
      "min_width": null,
      "object_fit": null,
      "object_position": null,
      "order": null,
      "overflow": null,
      "overflow_x": null,
      "overflow_y": null,
      "padding": null,
      "right": null,
      "top": null,
      "visibility": null,
      "width": null
     }
    },
    "4d221ea7a15d49049ca0c7794c9127f1": {
     "model_module": "@jupyter-widgets/controls",
     "model_module_version": "1.5.0",
     "model_name": "HTMLModel",
     "state": {
      "_dom_classes": [],
      "_model_module": "@jupyter-widgets/controls",
      "_model_module_version": "1.5.0",
      "_model_name": "HTMLModel",
      "_view_count": null,
      "_view_module": "@jupyter-widgets/controls",
      "_view_module_version": "1.5.0",
      "_view_name": "HTMLView",
      "description": "",
      "description_tooltip": null,
      "layout": "IPY_MODEL_8a21ac46ef2945f8815abd37aab928b3",
      "placeholder": "​",
      "style": "IPY_MODEL_19a400d030ca4f9e8b2499c79c433311",
      "value": " 29.0/29.0 [00:00&lt;00:00, 564B/s]"
     }
    },
    "53ad6b316b164ed3b1de916cf3afd35c": {
     "model_module": "@jupyter-widgets/controls",
     "model_module_version": "1.5.0",
     "model_name": "HTMLModel",
     "state": {
      "_dom_classes": [],
      "_model_module": "@jupyter-widgets/controls",
      "_model_module_version": "1.5.0",
      "_model_name": "HTMLModel",
      "_view_count": null,
      "_view_module": "@jupyter-widgets/controls",
      "_view_module_version": "1.5.0",
      "_view_name": "HTMLView",
      "description": "",
      "description_tooltip": null,
      "layout": "IPY_MODEL_cf4dcb6aedd84cebada7e5aac81133e2",
      "placeholder": "​",
      "style": "IPY_MODEL_0943b4c2957341efb602c86e2984ee79",
      "value": " 436M/436M [00:13&lt;00:00, 33.7MB/s]"
     }
    },
    "577d76a926e74834bfe73d9656346ffa": {
     "model_module": "@jupyter-widgets/base",
     "model_module_version": "1.2.0",
     "model_name": "LayoutModel",
     "state": {
      "_model_module": "@jupyter-widgets/base",
      "_model_module_version": "1.2.0",
      "_model_name": "LayoutModel",
      "_view_count": null,
      "_view_module": "@jupyter-widgets/base",
      "_view_module_version": "1.2.0",
      "_view_name": "LayoutView",
      "align_content": null,
      "align_items": null,
      "align_self": null,
      "border": null,
      "bottom": null,
      "display": null,
      "flex": null,
      "flex_flow": null,
      "grid_area": null,
      "grid_auto_columns": null,
      "grid_auto_flow": null,
      "grid_auto_rows": null,
      "grid_column": null,
      "grid_gap": null,
      "grid_row": null,
      "grid_template_areas": null,
      "grid_template_columns": null,
      "grid_template_rows": null,
      "height": null,
      "justify_content": null,
      "justify_items": null,
      "left": null,
      "margin": null,
      "max_height": null,
      "max_width": null,
      "min_height": null,
      "min_width": null,
      "object_fit": null,
      "object_position": null,
      "order": null,
      "overflow": null,
      "overflow_x": null,
      "overflow_y": null,
      "padding": null,
      "right": null,
      "top": null,
      "visibility": null,
      "width": null
     }
    },
    "57d60dd384df471a91366477441ae590": {
     "model_module": "@jupyter-widgets/base",
     "model_module_version": "1.2.0",
     "model_name": "LayoutModel",
     "state": {
      "_model_module": "@jupyter-widgets/base",
      "_model_module_version": "1.2.0",
      "_model_name": "LayoutModel",
      "_view_count": null,
      "_view_module": "@jupyter-widgets/base",
      "_view_module_version": "1.2.0",
      "_view_name": "LayoutView",
      "align_content": null,
      "align_items": null,
      "align_self": null,
      "border": null,
      "bottom": null,
      "display": null,
      "flex": null,
      "flex_flow": null,
      "grid_area": null,
      "grid_auto_columns": null,
      "grid_auto_flow": null,
      "grid_auto_rows": null,
      "grid_column": null,
      "grid_gap": null,
      "grid_row": null,
      "grid_template_areas": null,
      "grid_template_columns": null,
      "grid_template_rows": null,
      "height": null,
      "justify_content": null,
      "justify_items": null,
      "left": null,
      "margin": null,
      "max_height": null,
      "max_width": null,
      "min_height": null,
      "min_width": null,
      "object_fit": null,
      "object_position": null,
      "order": null,
      "overflow": null,
      "overflow_x": null,
      "overflow_y": null,
      "padding": null,
      "right": null,
      "top": null,
      "visibility": null,
      "width": null
     }
    },
    "598706944086406e9297e01548a1d538": {
     "model_module": "@jupyter-widgets/base",
     "model_module_version": "1.2.0",
     "model_name": "LayoutModel",
     "state": {
      "_model_module": "@jupyter-widgets/base",
      "_model_module_version": "1.2.0",
      "_model_name": "LayoutModel",
      "_view_count": null,
      "_view_module": "@jupyter-widgets/base",
      "_view_module_version": "1.2.0",
      "_view_name": "LayoutView",
      "align_content": null,
      "align_items": null,
      "align_self": null,
      "border": null,
      "bottom": null,
      "display": null,
      "flex": null,
      "flex_flow": null,
      "grid_area": null,
      "grid_auto_columns": null,
      "grid_auto_flow": null,
      "grid_auto_rows": null,
      "grid_column": null,
      "grid_gap": null,
      "grid_row": null,
      "grid_template_areas": null,
      "grid_template_columns": null,
      "grid_template_rows": null,
      "height": null,
      "justify_content": null,
      "justify_items": null,
      "left": null,
      "margin": null,
      "max_height": null,
      "max_width": null,
      "min_height": null,
      "min_width": null,
      "object_fit": null,
      "object_position": null,
      "order": null,
      "overflow": null,
      "overflow_x": null,
      "overflow_y": null,
      "padding": null,
      "right": null,
      "top": null,
      "visibility": null,
      "width": null
     }
    },
    "5c2214b8589d45e3b805a9edf5f0271a": {
     "model_module": "@jupyter-widgets/base",
     "model_module_version": "1.2.0",
     "model_name": "LayoutModel",
     "state": {
      "_model_module": "@jupyter-widgets/base",
      "_model_module_version": "1.2.0",
      "_model_name": "LayoutModel",
      "_view_count": null,
      "_view_module": "@jupyter-widgets/base",
      "_view_module_version": "1.2.0",
      "_view_name": "LayoutView",
      "align_content": null,
      "align_items": null,
      "align_self": null,
      "border": null,
      "bottom": null,
      "display": null,
      "flex": null,
      "flex_flow": null,
      "grid_area": null,
      "grid_auto_columns": null,
      "grid_auto_flow": null,
      "grid_auto_rows": null,
      "grid_column": null,
      "grid_gap": null,
      "grid_row": null,
      "grid_template_areas": null,
      "grid_template_columns": null,
      "grid_template_rows": null,
      "height": null,
      "justify_content": null,
      "justify_items": null,
      "left": null,
      "margin": null,
      "max_height": null,
      "max_width": null,
      "min_height": null,
      "min_width": null,
      "object_fit": null,
      "object_position": null,
      "order": null,
      "overflow": null,
      "overflow_x": null,
      "overflow_y": null,
      "padding": null,
      "right": null,
      "top": null,
      "visibility": null,
      "width": null
     }
    },
    "6075615517824b8385af62d2005d62e4": {
     "model_module": "@jupyter-widgets/base",
     "model_module_version": "1.2.0",
     "model_name": "LayoutModel",
     "state": {
      "_model_module": "@jupyter-widgets/base",
      "_model_module_version": "1.2.0",
      "_model_name": "LayoutModel",
      "_view_count": null,
      "_view_module": "@jupyter-widgets/base",
      "_view_module_version": "1.2.0",
      "_view_name": "LayoutView",
      "align_content": null,
      "align_items": null,
      "align_self": null,
      "border": null,
      "bottom": null,
      "display": null,
      "flex": null,
      "flex_flow": null,
      "grid_area": null,
      "grid_auto_columns": null,
      "grid_auto_flow": null,
      "grid_auto_rows": null,
      "grid_column": null,
      "grid_gap": null,
      "grid_row": null,
      "grid_template_areas": null,
      "grid_template_columns": null,
      "grid_template_rows": null,
      "height": null,
      "justify_content": null,
      "justify_items": null,
      "left": null,
      "margin": null,
      "max_height": null,
      "max_width": null,
      "min_height": null,
      "min_width": null,
      "object_fit": null,
      "object_position": null,
      "order": null,
      "overflow": null,
      "overflow_x": null,
      "overflow_y": null,
      "padding": null,
      "right": null,
      "top": null,
      "visibility": null,
      "width": null
     }
    },
    "64780db86c7f4ff793201f783815ab28": {
     "model_module": "@jupyter-widgets/controls",
     "model_module_version": "1.5.0",
     "model_name": "HTMLModel",
     "state": {
      "_dom_classes": [],
      "_model_module": "@jupyter-widgets/controls",
      "_model_module_version": "1.5.0",
      "_model_name": "HTMLModel",
      "_view_count": null,
      "_view_module": "@jupyter-widgets/controls",
      "_view_module_version": "1.5.0",
      "_view_name": "HTMLView",
      "description": "",
      "description_tooltip": null,
      "layout": "IPY_MODEL_6075615517824b8385af62d2005d62e4",
      "placeholder": "​",
      "style": "IPY_MODEL_ec3e20f5f8b0463bb81888f8c1a68722",
      "value": "Downloading: 100%"
     }
    },
    "65c89aeea64244eba0a91c66f73c2dc8": {
     "model_module": "@jupyter-widgets/base",
     "model_module_version": "1.2.0",
     "model_name": "LayoutModel",
     "state": {
      "_model_module": "@jupyter-widgets/base",
      "_model_module_version": "1.2.0",
      "_model_name": "LayoutModel",
      "_view_count": null,
      "_view_module": "@jupyter-widgets/base",
      "_view_module_version": "1.2.0",
      "_view_name": "LayoutView",
      "align_content": null,
      "align_items": null,
      "align_self": null,
      "border": null,
      "bottom": null,
      "display": null,
      "flex": null,
      "flex_flow": null,
      "grid_area": null,
      "grid_auto_columns": null,
      "grid_auto_flow": null,
      "grid_auto_rows": null,
      "grid_column": null,
      "grid_gap": null,
      "grid_row": null,
      "grid_template_areas": null,
      "grid_template_columns": null,
      "grid_template_rows": null,
      "height": null,
      "justify_content": null,
      "justify_items": null,
      "left": null,
      "margin": null,
      "max_height": null,
      "max_width": null,
      "min_height": null,
      "min_width": null,
      "object_fit": null,
      "object_position": null,
      "order": null,
      "overflow": null,
      "overflow_x": null,
      "overflow_y": null,
      "padding": null,
      "right": null,
      "top": null,
      "visibility": null,
      "width": null
     }
    },
    "6b858b39da3d437d9fe1f7f6494e59cf": {
     "model_module": "@jupyter-widgets/controls",
     "model_module_version": "1.5.0",
     "model_name": "DescriptionStyleModel",
     "state": {
      "_model_module": "@jupyter-widgets/controls",
      "_model_module_version": "1.5.0",
      "_model_name": "DescriptionStyleModel",
      "_view_count": null,
      "_view_module": "@jupyter-widgets/base",
      "_view_module_version": "1.2.0",
      "_view_name": "StyleView",
      "description_width": ""
     }
    },
    "6d49b0ac9e58454bb759595ca6f564f9": {
     "model_module": "@jupyter-widgets/base",
     "model_module_version": "1.2.0",
     "model_name": "LayoutModel",
     "state": {
      "_model_module": "@jupyter-widgets/base",
      "_model_module_version": "1.2.0",
      "_model_name": "LayoutModel",
      "_view_count": null,
      "_view_module": "@jupyter-widgets/base",
      "_view_module_version": "1.2.0",
      "_view_name": "LayoutView",
      "align_content": null,
      "align_items": null,
      "align_self": null,
      "border": null,
      "bottom": null,
      "display": null,
      "flex": null,
      "flex_flow": null,
      "grid_area": null,
      "grid_auto_columns": null,
      "grid_auto_flow": null,
      "grid_auto_rows": null,
      "grid_column": null,
      "grid_gap": null,
      "grid_row": null,
      "grid_template_areas": null,
      "grid_template_columns": null,
      "grid_template_rows": null,
      "height": null,
      "justify_content": null,
      "justify_items": null,
      "left": null,
      "margin": null,
      "max_height": null,
      "max_width": null,
      "min_height": null,
      "min_width": null,
      "object_fit": null,
      "object_position": null,
      "order": null,
      "overflow": null,
      "overflow_x": null,
      "overflow_y": null,
      "padding": null,
      "right": null,
      "top": null,
      "visibility": null,
      "width": null
     }
    },
    "6ec8a85d5ea04f48a94c575d2de70724": {
     "model_module": "@jupyter-widgets/controls",
     "model_module_version": "1.5.0",
     "model_name": "HBoxModel",
     "state": {
      "_dom_classes": [],
      "_model_module": "@jupyter-widgets/controls",
      "_model_module_version": "1.5.0",
      "_model_name": "HBoxModel",
      "_view_count": null,
      "_view_module": "@jupyter-widgets/controls",
      "_view_module_version": "1.5.0",
      "_view_name": "HBoxView",
      "box_style": "",
      "children": [
       "IPY_MODEL_64780db86c7f4ff793201f783815ab28",
       "IPY_MODEL_adc7566d51d04a8fad6b78ea5133ec33",
       "IPY_MODEL_4d221ea7a15d49049ca0c7794c9127f1"
      ],
      "layout": "IPY_MODEL_5c2214b8589d45e3b805a9edf5f0271a"
     }
    },
    "7642e80c7f6c4013ab5cf064123947bf": {
     "model_module": "@jupyter-widgets/controls",
     "model_module_version": "1.5.0",
     "model_name": "ProgressStyleModel",
     "state": {
      "_model_module": "@jupyter-widgets/controls",
      "_model_module_version": "1.5.0",
      "_model_name": "ProgressStyleModel",
      "_view_count": null,
      "_view_module": "@jupyter-widgets/base",
      "_view_module_version": "1.2.0",
      "_view_name": "StyleView",
      "bar_color": null,
      "description_width": ""
     }
    },
    "77a88a70bc0044d4a94dccee943c8d83": {
     "model_module": "@jupyter-widgets/controls",
     "model_module_version": "1.5.0",
     "model_name": "ProgressStyleModel",
     "state": {
      "_model_module": "@jupyter-widgets/controls",
      "_model_module_version": "1.5.0",
      "_model_name": "ProgressStyleModel",
      "_view_count": null,
      "_view_module": "@jupyter-widgets/base",
      "_view_module_version": "1.2.0",
      "_view_name": "StyleView",
      "bar_color": null,
      "description_width": ""
     }
    },
    "77fa77253732475bb5916b91f808c229": {
     "model_module": "@jupyter-widgets/base",
     "model_module_version": "1.2.0",
     "model_name": "LayoutModel",
     "state": {
      "_model_module": "@jupyter-widgets/base",
      "_model_module_version": "1.2.0",
      "_model_name": "LayoutModel",
      "_view_count": null,
      "_view_module": "@jupyter-widgets/base",
      "_view_module_version": "1.2.0",
      "_view_name": "LayoutView",
      "align_content": null,
      "align_items": null,
      "align_self": null,
      "border": null,
      "bottom": null,
      "display": null,
      "flex": null,
      "flex_flow": null,
      "grid_area": null,
      "grid_auto_columns": null,
      "grid_auto_flow": null,
      "grid_auto_rows": null,
      "grid_column": null,
      "grid_gap": null,
      "grid_row": null,
      "grid_template_areas": null,
      "grid_template_columns": null,
      "grid_template_rows": null,
      "height": null,
      "justify_content": null,
      "justify_items": null,
      "left": null,
      "margin": null,
      "max_height": null,
      "max_width": null,
      "min_height": null,
      "min_width": null,
      "object_fit": null,
      "object_position": null,
      "order": null,
      "overflow": null,
      "overflow_x": null,
      "overflow_y": null,
      "padding": null,
      "right": null,
      "top": null,
      "visibility": null,
      "width": null
     }
    },
    "7e58d8791d4649c0a981ce83e45ba280": {
     "model_module": "@jupyter-widgets/controls",
     "model_module_version": "1.5.0",
     "model_name": "FloatProgressModel",
     "state": {
      "_dom_classes": [],
      "_model_module": "@jupyter-widgets/controls",
      "_model_module_version": "1.5.0",
      "_model_name": "FloatProgressModel",
      "_view_count": null,
      "_view_module": "@jupyter-widgets/controls",
      "_view_module_version": "1.5.0",
      "_view_name": "ProgressView",
      "bar_style": "success",
      "description": "",
      "description_tooltip": null,
      "layout": "IPY_MODEL_77fa77253732475bb5916b91f808c229",
      "max": 435797,
      "min": 0,
      "orientation": "horizontal",
      "style": "IPY_MODEL_ddff2f88955941c8879352e0eca88663",
      "value": 435797
     }
    },
    "82f719c1056a4ae5a0470173f55462ab": {
     "model_module": "@jupyter-widgets/controls",
     "model_module_version": "1.5.0",
     "model_name": "HBoxModel",
     "state": {
      "_dom_classes": [],
      "_model_module": "@jupyter-widgets/controls",
      "_model_module_version": "1.5.0",
      "_model_name": "HBoxModel",
      "_view_count": null,
      "_view_module": "@jupyter-widgets/controls",
      "_view_module_version": "1.5.0",
      "_view_name": "HBoxView",
      "box_style": "",
      "children": [
       "IPY_MODEL_1f2ecff250ff4eb9b521070c3e94d77f",
       "IPY_MODEL_7e58d8791d4649c0a981ce83e45ba280",
       "IPY_MODEL_3c7b115aaf534dfc8cc839c2d2ce1e3e"
      ],
      "layout": "IPY_MODEL_a1c50141b693440f9a6d4c862f64e28f"
     }
    },
    "8605a60439534c7088ca22486d15157d": {
     "model_module": "@jupyter-widgets/base",
     "model_module_version": "1.2.0",
     "model_name": "LayoutModel",
     "state": {
      "_model_module": "@jupyter-widgets/base",
      "_model_module_version": "1.2.0",
      "_model_name": "LayoutModel",
      "_view_count": null,
      "_view_module": "@jupyter-widgets/base",
      "_view_module_version": "1.2.0",
      "_view_name": "LayoutView",
      "align_content": null,
      "align_items": null,
      "align_self": null,
      "border": null,
      "bottom": null,
      "display": null,
      "flex": null,
      "flex_flow": null,
      "grid_area": null,
      "grid_auto_columns": null,
      "grid_auto_flow": null,
      "grid_auto_rows": null,
      "grid_column": null,
      "grid_gap": null,
      "grid_row": null,
      "grid_template_areas": null,
      "grid_template_columns": null,
      "grid_template_rows": null,
      "height": null,
      "justify_content": null,
      "justify_items": null,
      "left": null,
      "margin": null,
      "max_height": null,
      "max_width": null,
      "min_height": null,
      "min_width": null,
      "object_fit": null,
      "object_position": null,
      "order": null,
      "overflow": null,
      "overflow_x": null,
      "overflow_y": null,
      "padding": null,
      "right": null,
      "top": null,
      "visibility": null,
      "width": null
     }
    },
    "8a12a548f3ac4a4ba418d126e98e7b21": {
     "model_module": "@jupyter-widgets/controls",
     "model_module_version": "1.5.0",
     "model_name": "ProgressStyleModel",
     "state": {
      "_model_module": "@jupyter-widgets/controls",
      "_model_module_version": "1.5.0",
      "_model_name": "ProgressStyleModel",
      "_view_count": null,
      "_view_module": "@jupyter-widgets/base",
      "_view_module_version": "1.2.0",
      "_view_name": "StyleView",
      "bar_color": null,
      "description_width": ""
     }
    },
    "8a21ac46ef2945f8815abd37aab928b3": {
     "model_module": "@jupyter-widgets/base",
     "model_module_version": "1.2.0",
     "model_name": "LayoutModel",
     "state": {
      "_model_module": "@jupyter-widgets/base",
      "_model_module_version": "1.2.0",
      "_model_name": "LayoutModel",
      "_view_count": null,
      "_view_module": "@jupyter-widgets/base",
      "_view_module_version": "1.2.0",
      "_view_name": "LayoutView",
      "align_content": null,
      "align_items": null,
      "align_self": null,
      "border": null,
      "bottom": null,
      "display": null,
      "flex": null,
      "flex_flow": null,
      "grid_area": null,
      "grid_auto_columns": null,
      "grid_auto_flow": null,
      "grid_auto_rows": null,
      "grid_column": null,
      "grid_gap": null,
      "grid_row": null,
      "grid_template_areas": null,
      "grid_template_columns": null,
      "grid_template_rows": null,
      "height": null,
      "justify_content": null,
      "justify_items": null,
      "left": null,
      "margin": null,
      "max_height": null,
      "max_width": null,
      "min_height": null,
      "min_width": null,
      "object_fit": null,
      "object_position": null,
      "order": null,
      "overflow": null,
      "overflow_x": null,
      "overflow_y": null,
      "padding": null,
      "right": null,
      "top": null,
      "visibility": null,
      "width": null
     }
    },
    "9ffdbac029b94a07987ef4d49477848d": {
     "model_module": "@jupyter-widgets/controls",
     "model_module_version": "1.5.0",
     "model_name": "HTMLModel",
     "state": {
      "_dom_classes": [],
      "_model_module": "@jupyter-widgets/controls",
      "_model_module_version": "1.5.0",
      "_model_name": "HTMLModel",
      "_view_count": null,
      "_view_module": "@jupyter-widgets/controls",
      "_view_module_version": "1.5.0",
      "_view_name": "HTMLView",
      "description": "",
      "description_tooltip": null,
      "layout": "IPY_MODEL_32074f66d020456ca5d6534ca19a9a06",
      "placeholder": "​",
      "style": "IPY_MODEL_6b858b39da3d437d9fe1f7f6494e59cf",
      "value": "Downloading: 100%"
     }
    },
    "a1c50141b693440f9a6d4c862f64e28f": {
     "model_module": "@jupyter-widgets/base",
     "model_module_version": "1.2.0",
     "model_name": "LayoutModel",
     "state": {
      "_model_module": "@jupyter-widgets/base",
      "_model_module_version": "1.2.0",
      "_model_name": "LayoutModel",
      "_view_count": null,
      "_view_module": "@jupyter-widgets/base",
      "_view_module_version": "1.2.0",
      "_view_name": "LayoutView",
      "align_content": null,
      "align_items": null,
      "align_self": null,
      "border": null,
      "bottom": null,
      "display": null,
      "flex": null,
      "flex_flow": null,
      "grid_area": null,
      "grid_auto_columns": null,
      "grid_auto_flow": null,
      "grid_auto_rows": null,
      "grid_column": null,
      "grid_gap": null,
      "grid_row": null,
      "grid_template_areas": null,
      "grid_template_columns": null,
      "grid_template_rows": null,
      "height": null,
      "justify_content": null,
      "justify_items": null,
      "left": null,
      "margin": null,
      "max_height": null,
      "max_width": null,
      "min_height": null,
      "min_width": null,
      "object_fit": null,
      "object_position": null,
      "order": null,
      "overflow": null,
      "overflow_x": null,
      "overflow_y": null,
      "padding": null,
      "right": null,
      "top": null,
      "visibility": null,
      "width": null
     }
    },
    "a8a4c228ff9642ab8dc341d0591cb774": {
     "model_module": "@jupyter-widgets/base",
     "model_module_version": "1.2.0",
     "model_name": "LayoutModel",
     "state": {
      "_model_module": "@jupyter-widgets/base",
      "_model_module_version": "1.2.0",
      "_model_name": "LayoutModel",
      "_view_count": null,
      "_view_module": "@jupyter-widgets/base",
      "_view_module_version": "1.2.0",
      "_view_name": "LayoutView",
      "align_content": null,
      "align_items": null,
      "align_self": null,
      "border": null,
      "bottom": null,
      "display": null,
      "flex": null,
      "flex_flow": null,
      "grid_area": null,
      "grid_auto_columns": null,
      "grid_auto_flow": null,
      "grid_auto_rows": null,
      "grid_column": null,
      "grid_gap": null,
      "grid_row": null,
      "grid_template_areas": null,
      "grid_template_columns": null,
      "grid_template_rows": null,
      "height": null,
      "justify_content": null,
      "justify_items": null,
      "left": null,
      "margin": null,
      "max_height": null,
      "max_width": null,
      "min_height": null,
      "min_width": null,
      "object_fit": null,
      "object_position": null,
      "order": null,
      "overflow": null,
      "overflow_x": null,
      "overflow_y": null,
      "padding": null,
      "right": null,
      "top": null,
      "visibility": null,
      "width": null
     }
    },
    "adc7566d51d04a8fad6b78ea5133ec33": {
     "model_module": "@jupyter-widgets/controls",
     "model_module_version": "1.5.0",
     "model_name": "FloatProgressModel",
     "state": {
      "_dom_classes": [],
      "_model_module": "@jupyter-widgets/controls",
      "_model_module_version": "1.5.0",
      "_model_name": "FloatProgressModel",
      "_view_count": null,
      "_view_module": "@jupyter-widgets/controls",
      "_view_module_version": "1.5.0",
      "_view_name": "ProgressView",
      "bar_style": "success",
      "description": "",
      "description_tooltip": null,
      "layout": "IPY_MODEL_65c89aeea64244eba0a91c66f73c2dc8",
      "max": 29,
      "min": 0,
      "orientation": "horizontal",
      "style": "IPY_MODEL_7642e80c7f6c4013ab5cf064123947bf",
      "value": 29
     }
    },
    "b76454f14c0445c5bcdf7cfc00e4c867": {
     "model_module": "@jupyter-widgets/controls",
     "model_module_version": "1.5.0",
     "model_name": "HTMLModel",
     "state": {
      "_dom_classes": [],
      "_model_module": "@jupyter-widgets/controls",
      "_model_module_version": "1.5.0",
      "_model_name": "HTMLModel",
      "_view_count": null,
      "_view_module": "@jupyter-widgets/controls",
      "_view_module_version": "1.5.0",
      "_view_name": "HTMLView",
      "description": "",
      "description_tooltip": null,
      "layout": "IPY_MODEL_a8a4c228ff9642ab8dc341d0591cb774",
      "placeholder": "​",
      "style": "IPY_MODEL_f508fa46af4e422591519930259fa814",
      "value": " 213k/213k [00:00&lt;00:00, 187kB/s]"
     }
    },
    "b86b336ebc3e4135842a3da37032e593": {
     "model_module": "@jupyter-widgets/controls",
     "model_module_version": "1.5.0",
     "model_name": "FloatProgressModel",
     "state": {
      "_dom_classes": [],
      "_model_module": "@jupyter-widgets/controls",
      "_model_module_version": "1.5.0",
      "_model_name": "FloatProgressModel",
      "_view_count": null,
      "_view_module": "@jupyter-widgets/controls",
      "_view_module_version": "1.5.0",
      "_view_name": "ProgressView",
      "bar_style": "success",
      "description": "",
      "description_tooltip": null,
      "layout": "IPY_MODEL_57d60dd384df471a91366477441ae590",
      "max": 213450,
      "min": 0,
      "orientation": "horizontal",
      "style": "IPY_MODEL_c60238a9b25d412fb5ab6157dea30784",
      "value": 213450
     }
    },
    "bae75a38c0844a80a095dbf8251edafa": {
     "model_module": "@jupyter-widgets/controls",
     "model_module_version": "1.5.0",
     "model_name": "HBoxModel",
     "state": {
      "_dom_classes": [],
      "_model_module": "@jupyter-widgets/controls",
      "_model_module_version": "1.5.0",
      "_model_name": "HBoxModel",
      "_view_count": null,
      "_view_module": "@jupyter-widgets/controls",
      "_view_module_version": "1.5.0",
      "_view_name": "HBoxView",
      "box_style": "",
      "children": [
       "IPY_MODEL_bb4d7814bb764a83b0de106f0209c4e0",
       "IPY_MODEL_b86b336ebc3e4135842a3da37032e593",
       "IPY_MODEL_b76454f14c0445c5bcdf7cfc00e4c867"
      ],
      "layout": "IPY_MODEL_2bb01146b6c543a0823a00b1f6b4c8e8"
     }
    },
    "bb4d7814bb764a83b0de106f0209c4e0": {
     "model_module": "@jupyter-widgets/controls",
     "model_module_version": "1.5.0",
     "model_name": "HTMLModel",
     "state": {
      "_dom_classes": [],
      "_model_module": "@jupyter-widgets/controls",
      "_model_module_version": "1.5.0",
      "_model_name": "HTMLModel",
      "_view_count": null,
      "_view_module": "@jupyter-widgets/controls",
      "_view_module_version": "1.5.0",
      "_view_name": "HTMLView",
      "description": "",
      "description_tooltip": null,
      "layout": "IPY_MODEL_6d49b0ac9e58454bb759595ca6f564f9",
      "placeholder": "​",
      "style": "IPY_MODEL_1027fd45c28e4583a6abb9e54f44d5d6",
      "value": "Downloading: 100%"
     }
    },
    "c2a9d25f32a64388afa0a62172cf96a8": {
     "model_module": "@jupyter-widgets/controls",
     "model_module_version": "1.5.0",
     "model_name": "HBoxModel",
     "state": {
      "_dom_classes": [],
      "_model_module": "@jupyter-widgets/controls",
      "_model_module_version": "1.5.0",
      "_model_name": "HBoxModel",
      "_view_count": null,
      "_view_module": "@jupyter-widgets/controls",
      "_view_module_version": "1.5.0",
      "_view_name": "HBoxView",
      "box_style": "",
      "children": [
       "IPY_MODEL_9ffdbac029b94a07987ef4d49477848d",
       "IPY_MODEL_4212e369231d4383a89102aa57b2bd73",
       "IPY_MODEL_53ad6b316b164ed3b1de916cf3afd35c"
      ],
      "layout": "IPY_MODEL_0c77fdc88458455b9a40214ce24384cb"
     }
    },
    "c60238a9b25d412fb5ab6157dea30784": {
     "model_module": "@jupyter-widgets/controls",
     "model_module_version": "1.5.0",
     "model_name": "ProgressStyleModel",
     "state": {
      "_model_module": "@jupyter-widgets/controls",
      "_model_module_version": "1.5.0",
      "_model_name": "ProgressStyleModel",
      "_view_count": null,
      "_view_module": "@jupyter-widgets/base",
      "_view_module_version": "1.2.0",
      "_view_name": "StyleView",
      "bar_color": null,
      "description_width": ""
     }
    },
    "c703129ff2cb4c87afc356ddb2524012": {
     "model_module": "@jupyter-widgets/base",
     "model_module_version": "1.2.0",
     "model_name": "LayoutModel",
     "state": {
      "_model_module": "@jupyter-widgets/base",
      "_model_module_version": "1.2.0",
      "_model_name": "LayoutModel",
      "_view_count": null,
      "_view_module": "@jupyter-widgets/base",
      "_view_module_version": "1.2.0",
      "_view_name": "LayoutView",
      "align_content": null,
      "align_items": null,
      "align_self": null,
      "border": null,
      "bottom": null,
      "display": null,
      "flex": null,
      "flex_flow": null,
      "grid_area": null,
      "grid_auto_columns": null,
      "grid_auto_flow": null,
      "grid_auto_rows": null,
      "grid_column": null,
      "grid_gap": null,
      "grid_row": null,
      "grid_template_areas": null,
      "grid_template_columns": null,
      "grid_template_rows": null,
      "height": null,
      "justify_content": null,
      "justify_items": null,
      "left": null,
      "margin": null,
      "max_height": null,
      "max_width": null,
      "min_height": null,
      "min_width": null,
      "object_fit": null,
      "object_position": null,
      "order": null,
      "overflow": null,
      "overflow_x": null,
      "overflow_y": null,
      "padding": null,
      "right": null,
      "top": null,
      "visibility": null,
      "width": null
     }
    },
    "ca594d36057d4ff7b60fb8a421a87ee1": {
     "model_module": "@jupyter-widgets/base",
     "model_module_version": "1.2.0",
     "model_name": "LayoutModel",
     "state": {
      "_model_module": "@jupyter-widgets/base",
      "_model_module_version": "1.2.0",
      "_model_name": "LayoutModel",
      "_view_count": null,
      "_view_module": "@jupyter-widgets/base",
      "_view_module_version": "1.2.0",
      "_view_name": "LayoutView",
      "align_content": null,
      "align_items": null,
      "align_self": null,
      "border": null,
      "bottom": null,
      "display": null,
      "flex": null,
      "flex_flow": null,
      "grid_area": null,
      "grid_auto_columns": null,
      "grid_auto_flow": null,
      "grid_auto_rows": null,
      "grid_column": null,
      "grid_gap": null,
      "grid_row": null,
      "grid_template_areas": null,
      "grid_template_columns": null,
      "grid_template_rows": null,
      "height": null,
      "justify_content": null,
      "justify_items": null,
      "left": null,
      "margin": null,
      "max_height": null,
      "max_width": null,
      "min_height": null,
      "min_width": null,
      "object_fit": null,
      "object_position": null,
      "order": null,
      "overflow": null,
      "overflow_x": null,
      "overflow_y": null,
      "padding": null,
      "right": null,
      "top": null,
      "visibility": null,
      "width": null
     }
    },
    "caa96ee8982d4c5f934121593d0fbf57": {
     "model_module": "@jupyter-widgets/controls",
     "model_module_version": "1.5.0",
     "model_name": "HTMLModel",
     "state": {
      "_dom_classes": [],
      "_model_module": "@jupyter-widgets/controls",
      "_model_module_version": "1.5.0",
      "_model_name": "HTMLModel",
      "_view_count": null,
      "_view_module": "@jupyter-widgets/controls",
      "_view_module_version": "1.5.0",
      "_view_name": "HTMLView",
      "description": "",
      "description_tooltip": null,
      "layout": "IPY_MODEL_577d76a926e74834bfe73d9656346ffa",
      "placeholder": "​",
      "style": "IPY_MODEL_f77347c4bb2f409eaea8884b86acc21c",
      "value": "Downloading: 100%"
     }
    },
    "cdf7492c91c043999e0809fcaee0c715": {
     "model_module": "@jupyter-widgets/base",
     "model_module_version": "1.2.0",
     "model_name": "LayoutModel",
     "state": {
      "_model_module": "@jupyter-widgets/base",
      "_model_module_version": "1.2.0",
      "_model_name": "LayoutModel",
      "_view_count": null,
      "_view_module": "@jupyter-widgets/base",
      "_view_module_version": "1.2.0",
      "_view_name": "LayoutView",
      "align_content": null,
      "align_items": null,
      "align_self": null,
      "border": null,
      "bottom": null,
      "display": null,
      "flex": null,
      "flex_flow": null,
      "grid_area": null,
      "grid_auto_columns": null,
      "grid_auto_flow": null,
      "grid_auto_rows": null,
      "grid_column": null,
      "grid_gap": null,
      "grid_row": null,
      "grid_template_areas": null,
      "grid_template_columns": null,
      "grid_template_rows": null,
      "height": null,
      "justify_content": null,
      "justify_items": null,
      "left": null,
      "margin": null,
      "max_height": null,
      "max_width": null,
      "min_height": null,
      "min_width": null,
      "object_fit": null,
      "object_position": null,
      "order": null,
      "overflow": null,
      "overflow_x": null,
      "overflow_y": null,
      "padding": null,
      "right": null,
      "top": null,
      "visibility": null,
      "width": null
     }
    },
    "cf4dcb6aedd84cebada7e5aac81133e2": {
     "model_module": "@jupyter-widgets/base",
     "model_module_version": "1.2.0",
     "model_name": "LayoutModel",
     "state": {
      "_model_module": "@jupyter-widgets/base",
      "_model_module_version": "1.2.0",
      "_model_name": "LayoutModel",
      "_view_count": null,
      "_view_module": "@jupyter-widgets/base",
      "_view_module_version": "1.2.0",
      "_view_name": "LayoutView",
      "align_content": null,
      "align_items": null,
      "align_self": null,
      "border": null,
      "bottom": null,
      "display": null,
      "flex": null,
      "flex_flow": null,
      "grid_area": null,
      "grid_auto_columns": null,
      "grid_auto_flow": null,
      "grid_auto_rows": null,
      "grid_column": null,
      "grid_gap": null,
      "grid_row": null,
      "grid_template_areas": null,
      "grid_template_columns": null,
      "grid_template_rows": null,
      "height": null,
      "justify_content": null,
      "justify_items": null,
      "left": null,
      "margin": null,
      "max_height": null,
      "max_width": null,
      "min_height": null,
      "min_width": null,
      "object_fit": null,
      "object_position": null,
      "order": null,
      "overflow": null,
      "overflow_x": null,
      "overflow_y": null,
      "padding": null,
      "right": null,
      "top": null,
      "visibility": null,
      "width": null
     }
    },
    "ddff2f88955941c8879352e0eca88663": {
     "model_module": "@jupyter-widgets/controls",
     "model_module_version": "1.5.0",
     "model_name": "ProgressStyleModel",
     "state": {
      "_model_module": "@jupyter-widgets/controls",
      "_model_module_version": "1.5.0",
      "_model_name": "ProgressStyleModel",
      "_view_count": null,
      "_view_module": "@jupyter-widgets/base",
      "_view_module_version": "1.2.0",
      "_view_name": "StyleView",
      "bar_color": null,
      "description_width": ""
     }
    },
    "ec3e20f5f8b0463bb81888f8c1a68722": {
     "model_module": "@jupyter-widgets/controls",
     "model_module_version": "1.5.0",
     "model_name": "DescriptionStyleModel",
     "state": {
      "_model_module": "@jupyter-widgets/controls",
      "_model_module_version": "1.5.0",
      "_model_name": "DescriptionStyleModel",
      "_view_count": null,
      "_view_module": "@jupyter-widgets/base",
      "_view_module_version": "1.2.0",
      "_view_name": "StyleView",
      "description_width": ""
     }
    },
    "edae0902c3424695842f11d98afec0f8": {
     "model_module": "@jupyter-widgets/controls",
     "model_module_version": "1.5.0",
     "model_name": "DescriptionStyleModel",
     "state": {
      "_model_module": "@jupyter-widgets/controls",
      "_model_module_version": "1.5.0",
      "_model_name": "DescriptionStyleModel",
      "_view_count": null,
      "_view_module": "@jupyter-widgets/base",
      "_view_module_version": "1.2.0",
      "_view_name": "StyleView",
      "description_width": ""
     }
    },
    "f321b0e7abbd4879bebc2fd9e39e52eb": {
     "model_module": "@jupyter-widgets/controls",
     "model_module_version": "1.5.0",
     "model_name": "FloatProgressModel",
     "state": {
      "_dom_classes": [],
      "_model_module": "@jupyter-widgets/controls",
      "_model_module_version": "1.5.0",
      "_model_name": "FloatProgressModel",
      "_view_count": null,
      "_view_module": "@jupyter-widgets/controls",
      "_view_module_version": "1.5.0",
      "_view_name": "ProgressView",
      "bar_style": "success",
      "description": "",
      "description_tooltip": null,
      "layout": "IPY_MODEL_598706944086406e9297e01548a1d538",
      "max": 570,
      "min": 0,
      "orientation": "horizontal",
      "style": "IPY_MODEL_8a12a548f3ac4a4ba418d126e98e7b21",
      "value": 570
     }
    },
    "f508fa46af4e422591519930259fa814": {
     "model_module": "@jupyter-widgets/controls",
     "model_module_version": "1.5.0",
     "model_name": "DescriptionStyleModel",
     "state": {
      "_model_module": "@jupyter-widgets/controls",
      "_model_module_version": "1.5.0",
      "_model_name": "DescriptionStyleModel",
      "_view_count": null,
      "_view_module": "@jupyter-widgets/base",
      "_view_module_version": "1.2.0",
      "_view_name": "StyleView",
      "description_width": ""
     }
    },
    "f77347c4bb2f409eaea8884b86acc21c": {
     "model_module": "@jupyter-widgets/controls",
     "model_module_version": "1.5.0",
     "model_name": "DescriptionStyleModel",
     "state": {
      "_model_module": "@jupyter-widgets/controls",
      "_model_module_version": "1.5.0",
      "_model_name": "DescriptionStyleModel",
      "_view_count": null,
      "_view_module": "@jupyter-widgets/base",
      "_view_module_version": "1.2.0",
      "_view_name": "StyleView",
      "description_width": ""
     }
    }
   }
  }
 },
 "nbformat": 4,
 "nbformat_minor": 1
}
